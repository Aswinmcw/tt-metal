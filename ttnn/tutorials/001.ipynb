{
    "cells": [
        {
            "cell_type": "code",
            "execution_count": 15,
            "metadata": {},
            "outputs": [
                {
                    "name": "stdout",
                    "output_type": "stream",
                    "text": [
                        "\u001b[38;2;000;128;000m                  Metal\u001b[0m | \u001b[1m\u001b[38;2;100;149;237mINFO    \u001b[0m | Initializing device 0\n",
                        "\u001b[38;2;000;128;000m                  Metal\u001b[0m | \u001b[1m\u001b[38;2;100;149;237mINFO    \u001b[0m | AI CLK for device 0 is:   1202 MHz\n"
                    ]
                }
            ],
            "source": [
                "import torch\n",
                "import ttnn\n",
                "\n",
                "torch.manual_seed(0)\n",
                "\n",
                "device_id = 0\n",
                "device = ttnn.open(device_id)"
            ]
        },
        {
            "cell_type": "code",
            "execution_count": 16,
            "metadata": {},
            "outputs": [],
            "source": [
                "h = 31\n",
                "w = 32 * 2"
            ]
        },
        {
            "cell_type": "markdown",
            "metadata": {},
            "source": [
                "# Initialize tensors a and b with random values using torch"
            ]
        },
        {
            "cell_type": "code",
            "execution_count": 17,
            "metadata": {},
            "outputs": [],
            "source": [
                "torch_a = torch.rand((h, w), dtype=torch.bfloat16)\n",
                "torch_b = torch.rand((h, w), dtype=torch.bfloat16)\n",
                "\n",
                "a = ttnn.from_torch(torch_a)\n",
                "b = ttnn.from_torch(torch_b)\n",
                "\n",
                "a = ttnn.to_device(a, device)\n",
                "b = ttnn.to_device(b, device)"
            ]
        },
        {
            "cell_type": "markdown",
            "metadata": {},
            "source": [
                "# Add tensor a and b"
            ]
        },
        {
            "cell_type": "code",
            "execution_count": 18,
            "metadata": {},
            "outputs": [],
            "source": [
                "output = a + b"
            ]
        },
        {
            "cell_type": "markdown",
            "metadata": {},
            "source": [
                "# Print the result of the add (only the first row)"
            ]
        },
        {
            "cell_type": "code",
            "execution_count": 19,
            "metadata": {},
            "outputs": [
                {
                    "name": "stdout",
                    "output_type": "stream",
                    "text": [
                        "Printing ttnn tensor\n",
                        "[31, 64]\n",
                        "Tensor([ [1.21094, 0.203125, 0.753906, 0.988281, 0.925781, 1.94531, 1.32812, 0.632812, 0.101562, 1.59375, 0.316406, 1.54688, 0.695312, 0.765625, 0.511719, 1.55469, 0.660156, 0.660156, 1, 0.863281, 1.6875, 0.671875, 1.23438, 1.57031, 0.671875, 1.03125, 1.59375, 0.792969, 0.636719, 0.988281, 0.0742188, 0.746094, 1.17969, 1.42969, 1.17969, 1.32812, 1.94531, 0.996094, 1.15625, 1.24219, 0.539062, 1.14062, 1.25, 1.21875, 1.71875, 0.671875, 1.03906, 1.48438, 0.757812, 0.777344, 0.464844, 1.5625, 0.667969, 0.835938, 0.695312, 0.972656, 0.828125, 0.804688, 1.70312, 1.07031, 1.24219, 1.82031, 1.3125, 0.921875]], dtype=bfloat16 )\n",
                        "\n"
                    ]
                }
            ],
            "source": [
                "print(\"Printing ttnn tensor\")\n",
                "print(output.shape)\n",
                "print(output[:1])"
            ]
        },
        {
            "cell_type": "markdown",
            "metadata": {},
            "source": [
                "# Free tensor"
            ]
        },
        {
            "cell_type": "code",
            "execution_count": 20,
            "metadata": {},
            "outputs": [],
            "source": [
                "ttnn.free(output)"
            ]
        },
        {
            "cell_type": "markdown",
            "metadata": {},
            "source": [
                "# Free the device"
            ]
        },
        {
            "cell_type": "code",
            "execution_count": 21,
            "metadata": {},
            "outputs": [
                {
                    "name": "stdout",
                    "output_type": "stream",
                    "text": [
                        "\u001b[38;2;000;128;000m                  Metal\u001b[0m | \u001b[1m\u001b[38;2;100;149;237mINFO    \u001b[0m | Closing device 0\n"
                    ]
                }
            ],
            "source": [
                "ttnn.close(device)"
            ]
        },
        {
            "cell_type": "code",
            "execution_count": null,
            "metadata": {},
            "outputs": [],
            "source": []
        }
    ],
    "metadata": {
        "kernelspec": {
            "display_name": "Python 3 (ipykernel)",
            "language": "python",
            "name": "python3"
        },
        "language_info": {
            "codemirror_mode": {
                "name": "ipython",
                "version": 3
            },
            "file_extension": ".py",
            "mimetype": "text/x-python",
            "name": "python",
            "nbconvert_exporter": "python",
            "pygments_lexer": "ipython3",
            "version": "3.8.10"
        }
    },
    "nbformat": 4,
    "nbformat_minor": 4
}
