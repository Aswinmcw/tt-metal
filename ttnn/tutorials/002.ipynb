{
    "cells": [
        {
            "cell_type": "markdown",
            "metadata": {},
            "source": [
                "# Explore the matrix multiplications\n",
                "    Showcase a matmul operation\n",
                "    Expand the use of matmal with scalars"
            ]
        },
        {
            "cell_type": "code",
            "execution_count": 1,
            "metadata": {},
            "outputs": [
                {
                    "name": "stdout",
                    "output_type": "stream",
                    "text": [
                        "\u001b[38;2;000;128;000m                  Metal\u001b[0m | \u001b[1m\u001b[38;2;100;149;237mINFO    \u001b[0m | Initializing device 0\n",
                        "\u001b[38;2;000;128;000m                 Device\u001b[0m | \u001b[1m\u001b[38;2;100;149;237mINFO    \u001b[0m | Opening device driver\n",
                        "\u001b[32m2023-10-26 21:16:01.210\u001b[0m | \u001b[1m\u001b[38;2;100;149;237mINFO    \u001b[0m | \u001b[36mSiliconDriver  \u001b[0m - Detected 1 PCI device\n",
                        "\u001b[32m2023-10-26 21:16:01.223\u001b[0m | \u001b[1m\u001b[38;2;255;165;000mWARNING \u001b[0m | \u001b[36mSiliconDriver  \u001b[0m - init_detect_tt_device_numanodes(): Could not determine NumaNodeSet for TT device (physical_device_id: 0 pci_bus_id: 0000:00:08.0)\n",
                        "\u001b[32m2023-10-26 21:16:01.223\u001b[0m | \u001b[1m\u001b[38;2;255;165;000mWARNING \u001b[0m | \u001b[36mSiliconDriver  \u001b[0m - Could not find NumaNodeSet for TT Device (physical_device_id: 0 pci_bus_id: 0000:00:08.0)\n",
                        "\u001b[32m2023-10-26 21:16:01.223\u001b[0m | \u001b[1m\u001b[38;2;100;149;237mINFO    \u001b[0m | \u001b[36mSiliconDriver  \u001b[0m - Using 1 Hugepages/NumHostMemChannels for TTDevice (pci_interface_id: 0 device_id: 0xfaca revision: 0)\n",
                        "\u001b[32m2023-10-26 21:16:01.225\u001b[0m | \u001b[1m\u001b[38;2;255;165;000mWARNING \u001b[0m | \u001b[36mSiliconDriver  \u001b[0m - bind_area_memory_nodeset(): Unable to determine TT Device to NumaNode mapping for physical_device_id: 0. Skipping membind.\n",
                        "\u001b[0;33m---- ttSiliconDevice::init_hugepage: bind_area_to_memory_nodeset() failed (physical_device_id: 0 ch: 0). Hugepage allocation is not on NumaNode matching TT Device. Side-Effect is decreased Device->Host perf (Issue #893).\n",
                        "\u001b[0m\u001b[32m2023-10-26 21:16:01.439\u001b[0m | \u001b[1m\u001b[38;2;100;149;237mINFO    \u001b[0m | \u001b[36mSiliconDriver  \u001b[0m - Detected 1 PCI device\n",
                        "\u001b[32m2023-10-26 21:16:01.440\u001b[0m | \u001b[1m\u001b[38;2;100;149;237mINFO    \u001b[0m | \u001b[36mSiliconDriver  \u001b[0m - Using 1 Hugepages/NumHostMemChannels for TTDevice (pci_interface_id: 0 device_id: 0xfaca revision: 0)\n",
                        "\u001b[32m2023-10-26 21:16:01.440\u001b[0m | \u001b[1m\u001b[38;2;255;165;000mWARNING \u001b[0m | \u001b[36mSiliconDriver  \u001b[0m - bind_area_memory_nodeset(): Unable to determine TT Device to NumaNode mapping for physical_device_id: 0. Skipping membind.\n",
                        "\u001b[0;33m---- ttSiliconDevice::init_hugepage: bind_area_to_memory_nodeset() failed (physical_device_id: 0 ch: 0). Hugepage allocation is not on NumaNode matching TT Device. Side-Effect is decreased Device->Host perf (Issue #893).\n",
                        "\u001b[0m\u001b[32m2023-10-26 21:16:01.570\u001b[0m | \u001b[1m\u001b[38;2;100;149;237mINFO    \u001b[0m | \u001b[36mSiliconDriver  \u001b[0m - Disable PCIE DMA\n",
                        "\u001b[38;2;000;128;000m                  Metal\u001b[0m | \u001b[1m\u001b[38;2;100;149;237mINFO    \u001b[0m | AI CLK for device 0 is:   1202 MHz\n"
                    ]
                }
            ],
            "source": [
                "import torch\n",
                "import ttnn\n",
                "\n",
                "torch.manual_seed(0)\n",
                "\n",
                "device_id = 0\n",
                "device = ttnn.open(device_id)"
            ]
        },
        {
            "cell_type": "code",
            "execution_count": 2,
            "metadata": {},
            "outputs": [],
            "source": [
                "h = 32\n",
                "w = 32 * 2"
            ]
        },
        {
            "cell_type": "markdown",
            "metadata": {},
            "source": [
                "# Initialize tensors a and b with random values using torch"
            ]
        },
        {
            "cell_type": "code",
            "execution_count": 3,
            "metadata": {},
            "outputs": [],
            "source": [
                "torch_a = torch.randn((h, w), dtype=torch.bfloat16)\n",
                "torch_b = torch.randn((w, h), dtype=torch.bfloat16)\n",
                "\n",
                "a = ttnn.from_torch(torch_a)\n",
                "b = ttnn.from_torch(torch_b)\n",
                "\n",
                "a = ttnn.to_device(a, device)\n",
                "b = ttnn.to_device(b, device)"
            ]
        },
        {
            "cell_type": "markdown",
            "metadata": {},
            "source": [
                "# Matrix multiply tensor a and b"
            ]
        },
        {
            "cell_type": "code",
            "execution_count": 4,
            "metadata": {},
            "outputs": [
                {
                    "name": "stderr",
                    "output_type": "stream",
                    "text": [
                        "2023-10-26 21:16:04.078 | WARNING  | ttnn.core:reshape:468 - Given reshape operation could not be run on the TT device. Defaulting to torch implementation\n"
                    ]
                }
            ],
            "source": [
                "output = a @ b"
            ]
        },
        {
            "cell_type": "markdown",
            "metadata": {},
            "source": [
                "# Print the result of the matrix multiply"
            ]
        },
        {
            "cell_type": "code",
            "execution_count": 5,
            "metadata": {},
            "outputs": [
                {
                    "name": "stdout",
                    "output_type": "stream",
                    "text": [
                        "Printing ttnn tensor\n",
                        "[32, 32]\n",
                        "Tensor([ [-6.375, -0.375, -4.15625, 7.15625, 0.0639648, 5.46875, 5.25, 7.25, 2.5625, -2.42188, 2.82812, -2.48438, 7.5, 9.4375, 9.625, -11.375, 4.71875, -4.125, -5.84375, 4.15625, -13.625, -2.625, -4.15625, -8.75, 10.1875, -0.294922, 4.875, 0.894531, -7.78125, -5.25, -10.4375, -4.40625]], dtype=bfloat16 )\n",
                        "\n"
                    ]
                }
            ],
            "source": [
                "print(\"Printing ttnn tensor\")\n",
                "print(output.shape)\n",
                "print(output[:1])"
            ]
        },
        {
            "cell_type": "markdown",
            "metadata": {},
            "source": [
                "# Matrix multiply tensor a and b and use more performant config"
            ]
        },
        {
            "cell_type": "raw",
            "metadata": {},
            "source": [
                "a = ttnn.from_torch(torch_a)\n",
                "b = ttnn.from_torch(torch_b)\n",
                "\n",
                "a = ttnn.to_device(a, device, ttnn.l1_buffer_type)\n",
                "b = ttnn.to_device(b, device, ttnn.l1_buffer_type)\n",
                "\n",
                "output = ttnn.matmul(a, b, ttnn.l1_buffer_type, core_grid=(1, 2))"
            ]
        },
        {
            "cell_type": "markdown",
            "metadata": {},
            "source": [
                "# Print the result of the matrix multiply"
            ]
        },
        {
            "cell_type": "code",
            "execution_count": 6,
            "metadata": {},
            "outputs": [
                {
                    "name": "stdout",
                    "output_type": "stream",
                    "text": [
                        "Printing ttnn tensor\n",
                        "[32, 32]\n",
                        "Tensor([ [-6.375, -0.375, -4.15625, 7.15625, 0.0639648, 5.46875, 5.25, 7.25, 2.5625, -2.42188, 2.82812, -2.48438, 7.5, 9.4375, 9.625, -11.375, 4.71875, -4.125, -5.84375, 4.15625, -13.625, -2.625, -4.15625, -8.75, 10.1875, -0.294922, 4.875, 0.894531, -7.78125, -5.25, -10.4375, -4.40625]], dtype=bfloat16 )\n",
                        "\n"
                    ]
                }
            ],
            "source": [
                "print(\"Printing ttnn tensor\")\n",
                "print(output.shape)\n",
                "print(output[:1])"
            ]
        },
        {
            "cell_type": "markdown",
            "metadata": {},
            "source": [
                "# Free tensor"
            ]
        },
        {
            "cell_type": "code",
            "execution_count": 7,
            "metadata": {},
            "outputs": [],
            "source": [
                "ttnn.free(output)"
            ]
        },
        {
            "cell_type": "markdown",
            "metadata": {},
            "source": [
                "# Free the device"
            ]
        },
        {
            "cell_type": "code",
            "execution_count": 8,
            "metadata": {},
            "outputs": [
                {
                    "name": "stdout",
                    "output_type": "stream",
                    "text": [
                        "\u001b[38;2;000;128;000m                  Metal\u001b[0m | \u001b[1m\u001b[38;2;100;149;237mINFO    \u001b[0m | Closing device 0\n"
                    ]
                }
            ],
            "source": [
                "ttnn.close(device)"
            ]
        },
        {
            "cell_type": "code",
            "execution_count": null,
            "metadata": {},
            "outputs": [],
            "source": []
        }
    ],
    "metadata": {
        "kernelspec": {
            "display_name": "Python 3 (ipykernel)",
            "language": "python",
            "name": "python3"
        },
        "language_info": {
            "codemirror_mode": {
                "name": "ipython",
                "version": 3
            },
            "file_extension": ".py",
            "mimetype": "text/x-python",
            "name": "python",
            "nbconvert_exporter": "python",
            "pygments_lexer": "ipython3",
            "version": "3.8.10"
        }
    },
    "nbformat": 4,
    "nbformat_minor": 4
}
