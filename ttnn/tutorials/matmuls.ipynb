{
 "cells": [
  {
   "cell_type": "markdown",
   "id": "3df30554-a78c-4399-96cd-bb5ab4de3a81",
   "metadata": {},
   "source": [
    "# Imports & open Device"
   ]
  },
  {
   "cell_type": "code",
   "execution_count": 1,
   "id": "5e5a51ab-9a4f-4f35-aaf1-dad1de004e50",
   "metadata": {},
   "outputs": [
    {
     "name": "stdout",
     "output_type": "stream",
     "text": [
      "\u001b[38;2;000;128;000m                  Metal\u001b[0m | \u001b[1m\u001b[38;2;100;149;237mINFO    \u001b[0m | Initializing device 0\n",
      "\u001b[38;2;000;128;000m                 Device\u001b[0m | \u001b[1m\u001b[38;2;100;149;237mINFO    \u001b[0m | Opening user mode device driver\n",
      "\u001b[32m2024-01-03 20:44:25.631\u001b[0m | \u001b[1m\u001b[38;2;100;149;237mINFO    \u001b[0m | \u001b[36mSiliconDriver  \u001b[0m - Detected 1 PCI device : {0}\n",
      "\u001b[32m2024-01-03 20:44:25.641\u001b[0m | \u001b[1m\u001b[38;2;255;165;000mWARNING \u001b[0m | \u001b[36mSiliconDriver  \u001b[0m - init_detect_tt_device_numanodes(): Could not determine NumaNodeSet for TT device (physical_device_id: 0 pci_bus_id: 0000:00:08.0)\n",
      "\u001b[32m2024-01-03 20:44:25.641\u001b[0m | \u001b[1m\u001b[38;2;255;165;000mWARNING \u001b[0m | \u001b[36mSiliconDriver  \u001b[0m - Could not find NumaNodeSet for TT Device (physical_device_id: 0 pci_bus_id: 0000:00:08.0)\n",
      "\u001b[32m2024-01-03 20:44:25.641\u001b[0m | \u001b[1m\u001b[38;2;100;149;237mINFO    \u001b[0m | \u001b[36mSiliconDriver  \u001b[0m - Using 1 Hugepages/NumHostMemChannels for TTDevice (logical_device_id: 0 pci_interface_id: 0 device_id: 0xfaca revision: 0)\n",
      "\u001b[32m2024-01-03 20:44:25.643\u001b[0m | \u001b[1m\u001b[38;2;255;165;000mWARNING \u001b[0m | \u001b[36mSiliconDriver  \u001b[0m - bind_area_memory_nodeset(): Unable to determine TT Device to NumaNode mapping for physical_device_id: 0. Skipping membind.\n",
      "\u001b[0;33m---- ttSiliconDevice::init_hugepage: bind_area_to_memory_nodeset() failed (physical_device_id: 0 ch: 0). Hugepage allocation is not on NumaNode matching TT Device. Side-Effect is decreased Device->Host perf (Issue #893).\n",
      "\u001b[0m\u001b[32m2024-01-03 20:44:25.734\u001b[0m | \u001b[1m\u001b[38;2;100;149;237mINFO    \u001b[0m | \u001b[36mSiliconDriver  \u001b[0m - Disable PCIE DMA\n",
      "\u001b[38;2;000;128;000m                  Metal\u001b[0m | \u001b[1m\u001b[38;2;100;149;237mINFO    \u001b[0m | AI CLK for device 0 is:   1202 MHz\n"
     ]
    }
   ],
   "source": [
    "import time\n",
    "import torch\n",
    "import ttnn\n",
    "\n",
    "torch.manual_seed(0)\n",
    "device_id = 0\n",
    "device = ttnn.open(device_id)"
   ]
  },
  {
   "cell_type": "markdown",
   "id": "7bfcfccc-3e4c-4327-acb9-ed212f431857",
   "metadata": {},
   "source": [
    "# Enable program cache"
   ]
  },
  {
   "cell_type": "code",
   "execution_count": 2,
   "id": "48974510-eb55-40b8-a46c-2bb9c19b5c7b",
   "metadata": {},
   "outputs": [
    {
     "name": "stdout",
     "output_type": "stream",
     "text": [
      "\u001b[38;2;000;128;000m                     Op\u001b[0m | \u001b[1m\u001b[38;2;100;149;237mINFO    \u001b[0m | Program Cache: enabled.\n"
     ]
    }
   ],
   "source": [
    "ttnn.enable_program_cache()"
   ]
  },
  {
   "cell_type": "markdown",
   "id": "250960d7-3ad5-4dbc-bf1b-d8a49cfbb47b",
   "metadata": {},
   "source": [
    "# Matrix Multiplications "
   ]
  },
  {
   "cell_type": "markdown",
   "id": "c9a41311-6792-4ffc-91f6-6a8f6cfef4f0",
   "metadata": {},
   "source": [
    "# Constants"
   ]
  },
  {
   "cell_type": "code",
   "execution_count": 3,
   "id": "c30e3eb2-33a6-40ab-a50b-e97eb20671ad",
   "metadata": {},
   "outputs": [],
   "source": [
    "b = 8\n",
    "n = 12\n",
    "s = 384\n",
    "h = 1024"
   ]
  },
  {
   "cell_type": "code",
   "execution_count": 4,
   "id": "8725fb54-59b2-4995-a615-d7529cb08612",
   "metadata": {},
   "outputs": [],
   "source": [
    "A = torch.randn((b, s, h), dtype=torch.bfloat16)\n",
    "A = ttnn.from_torch(A)\n",
    "# tilize before matmul\n",
    "A = ttnn.to_layout(A, ttnn.TILE_LAYOUT)\n",
    "# put on L1 moemory \n",
    "A = ttnn.to_device(A, device, memory_config=ttnn.L1_MEMORY_CONFIG)"
   ]
  },
  {
   "cell_type": "code",
   "execution_count": 5,
   "id": "5da7b6d9-b71f-487b-a02a-904a25d6328e",
   "metadata": {},
   "outputs": [],
   "source": [
    "B = torch.randn((h, h), dtype=torch.bfloat16)\n",
    "B = ttnn.from_torch(B)\n",
    "B = ttnn.to_layout(B, ttnn.TILE_LAYOUT)\n",
    "B = ttnn.to_device(B, device, memory_config=ttnn.L1_MEMORY_CONFIG)"
   ]
  },
  {
   "cell_type": "code",
   "execution_count": 6,
   "id": "31d2f989-c6f1-4c40-827c-4ce8fa6588e0",
   "metadata": {},
   "outputs": [],
   "source": [
    "C = torch.randn((h, s), dtype=torch.bfloat16)\n",
    "C = ttnn.from_torch(C)\n",
    "C = ttnn.to_layout(C, ttnn.TILE_LAYOUT)\n",
    "C = ttnn.to_device(C, device, memory_config=ttnn.L1_MEMORY_CONFIG)"
   ]
  },
  {
   "cell_type": "code",
   "execution_count": 7,
   "id": "391474a1-a08d-447b-81a9-caaa4ce67f8d",
   "metadata": {},
   "outputs": [],
   "source": [
    "D = torch.randn((s, s), dtype=torch.bfloat16)\n",
    "D = ttnn.from_torch(D)\n",
    "D = ttnn.to_layout(D, ttnn.TILE_LAYOUT)\n",
    "D = ttnn.to_device(D, device, memory_config=ttnn.L1_MEMORY_CONFIG)"
   ]
  },
  {
   "cell_type": "markdown",
   "id": "74e5f9cc-faba-4c93-8852-2077351ecbe5",
   "metadata": {},
   "source": [
    "# Matmul1"
   ]
  },
  {
   "cell_type": "code",
   "execution_count": 8,
   "id": "550a0bee-c59c-4c86-949f-bbe1fa78cf4f",
   "metadata": {},
   "outputs": [],
   "source": [
    "M1 = ttnn.matmul(\n",
    "        A,\n",
    "        B,\n",
    "        memory_config=ttnn.L1_MEMORY_CONFIG,\n",
    "        dtype=ttnn.bfloat8_b, # use float8 datatype\n",
    "        core_grid=(b, n),\n",
    "    )"
   ]
  },
  {
   "cell_type": "markdown",
   "id": "d774c599-0b9b-433b-b275-9430654f3acf",
   "metadata": {},
   "source": [
    "# Matmul2"
   ]
  },
  {
   "cell_type": "code",
   "execution_count": 9,
   "id": "5106bd48-6078-4251-a31a-ec0689444b0c",
   "metadata": {},
   "outputs": [],
   "source": [
    "M2 = ttnn.matmul(\n",
    "        M1,\n",
    "        C,\n",
    "        memory_config=ttnn.L1_MEMORY_CONFIG,\n",
    "        dtype=ttnn.bfloat8_b, # use float8 data type\n",
    "        core_grid=(b, n), # specify grid cores to run matmul on\n",
    "    )"
   ]
  },
  {
   "cell_type": "markdown",
   "id": "5f380b2a-dcc6-4599-ad56-c1a75f1b5210",
   "metadata": {},
   "source": [
    "# Matmul3"
   ]
  },
  {
   "cell_type": "code",
   "execution_count": 10,
   "id": "90a318ba-06ce-40fd-baf6-c6ea268f6d06",
   "metadata": {},
   "outputs": [],
   "source": [
    "M3 = ttnn.matmul(\n",
    "        M2,\n",
    "        D,\n",
    "        memory_config=ttnn.L1_MEMORY_CONFIG,\n",
    "        dtype=ttnn.bfloat8_b, # use float8 data type\n",
    "        core_grid=(b, n), # specify grid cores to run matmul on\n",
    "    )"
   ]
  },
  {
   "cell_type": "markdown",
   "id": "801a9ff8-08d8-4fa9-9f4f-52203d51e2d5",
   "metadata": {},
   "source": [
    "### # Visualize results"
   ]
  },
  {
   "cell_type": "code",
   "execution_count": null,
   "id": "83a73d83-1b57-4959-97d2-ad1622d50d6e",
   "metadata": {},
   "outputs": [],
   "source": [
    "# print parts of M1 and M2; for slicing we need to change the layout to row_major\n",
    "M1 = ttnn.to_layout(M1, ttnn.ROW_MAJOR_LAYOUT)\n",
    "print(\"M1: \", M1[1, :4,:4])\n",
    "\n",
    "M2 = ttnn.to_layout(M2, ttnn.ROW_MAJOR_LAYOUT)\n",
    "print(\"M2: \", M2[1, :4,:4])\n",
    "\n",
    "M3 = ttnn.to_layout(M3, ttnn.ROW_MAJOR_LAYOUT)\n",
    "print(\"M3: \", M3[1, :4,:4])"
   ]
  },
  {
   "cell_type": "markdown",
   "id": "ee60667e-0f17-4ec2-b086-e1b26903b43c",
   "metadata": {},
   "source": [
    "# Matmul optim"
   ]
  },
  {
   "cell_type": "code",
   "execution_count": null,
   "id": "24d7f538-1e86-45df-b5af-0448fdcee18f",
   "metadata": {},
   "outputs": [],
   "source": []
  },
  {
   "cell_type": "code",
   "execution_count": null,
   "id": "0852f13e-1a7f-47fc-8c57-8db575b6ae9f",
   "metadata": {},
   "outputs": [],
   "source": []
  },
  {
   "cell_type": "markdown",
   "id": "ef75262d-9b38-4587-b99e-49fc9e55403a",
   "metadata": {},
   "source": [
    "# Defragment L1 memory Space"
   ]
  },
  {
   "cell_type": "code",
   "execution_count": null,
   "id": "8d3f4945-f294-40a8-95bd-a2dc67ab971d",
   "metadata": {},
   "outputs": [],
   "source": []
  },
  {
   "cell_type": "code",
   "execution_count": null,
   "id": "c452ca8e-0a88-4ef4-bb31-fe7c928f6ce6",
   "metadata": {},
   "outputs": [],
   "source": [
    "ttnn.close(device)"
   ]
  },
  {
   "cell_type": "code",
   "execution_count": null,
   "id": "a80876dd-c1ec-4963-b763-335fa429116d",
   "metadata": {},
   "outputs": [],
   "source": []
  },
  {
   "cell_type": "code",
   "execution_count": null,
   "id": "c99fbddf-d1f1-4b7d-9a5e-68d941a190c5",
   "metadata": {},
   "outputs": [],
   "source": []
  }
 ],
 "metadata": {
  "kernelspec": {
   "display_name": "Python 3 (ipykernel)",
   "language": "python",
   "name": "python3"
  },
  "language_info": {
   "codemirror_mode": {
    "name": "ipython",
    "version": 3
   },
   "file_extension": ".py",
   "mimetype": "text/x-python",
   "name": "python",
   "nbconvert_exporter": "python",
   "pygments_lexer": "ipython3",
   "version": "3.8.10"
  }
 },
 "nbformat": 4,
 "nbformat_minor": 5
}
