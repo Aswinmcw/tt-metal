{
 "cells": [
  {
   "cell_type": "markdown",
   "id": "d326abce-ada9-4a70-8297-035122d654a2",
   "metadata": {},
   "source": [
    "# Torch Model"
   ]
  },
  {
   "cell_type": "code",
   "execution_count": 1,
   "id": "8a0031a1-b83d-4373-9859-48d07dfd3d0a",
   "metadata": {},
   "outputs": [],
   "source": [
    "# From transformers.models.bert.modeling_bert.BertIntermediate\n",
    "# https://github.com/huggingface/transformers/blob/main/src/transformers/models/bert/modeling_bert.py or https://huggingface.co/transformers/v2.5.0/_modules/transformers/modeling_bert.html (find BertIntermidiate here, we have modified it a bit here)\n",
    "\n",
    "import torch\n",
    "\n",
    "class BertIntermediate(torch.nn.Module):\n",
    "    def __init__(self, config):\n",
    "        super().__init__()\n",
    "        self.dense = torch.nn.Linear(config.hidden_size, config.intermediate_size)\n",
    "\n",
    "    def forward(self, hidden_states):\n",
    "        hidden_states = self.dense(hidden_states)\n",
    "        hidden_states = torch.nn.functional.gelu(hidden_states)\n",
    "        return hidden_states\n"
   ]
  },
  {
   "cell_type": "markdown",
   "id": "259780f2-c280-4c4b-8feb-6c0650376c14",
   "metadata": {},
   "source": [
    "# Following TDD, the first step is to write a test for the model:\n",
    "# What is TDD? Need to add acrynoms docs"
   ]
  },
  {
   "cell_type": "code",
   "execution_count": 2,
   "id": "ecf2194a-63a7-46d0-9ff8-9927bdb64467",
   "metadata": {},
   "outputs": [
    {
     "ename": "ModuleNotFoundError",
     "evalue": "No module named 'torch_functional_bert'",
     "output_type": "error",
     "traceback": [
      "\u001b[0;31m---------------------------------------------------------------------------\u001b[0m",
      "\u001b[0;31mModuleNotFoundError\u001b[0m                       Traceback (most recent call last)",
      "Cell \u001b[0;32mIn[2], line 6\u001b[0m\n\u001b[1;32m      3\u001b[0m \u001b[38;5;28;01mimport\u001b[39;00m \u001b[38;5;21;01mtransformers\u001b[39;00m\n\u001b[1;32m      5\u001b[0m \u001b[38;5;28;01mimport\u001b[39;00m \u001b[38;5;21;01mttnn\u001b[39;00m\n\u001b[0;32m----> 6\u001b[0m \u001b[38;5;28;01mimport\u001b[39;00m \u001b[38;5;21;01mtorch_functional_bert\u001b[39;00m\n\u001b[1;32m      8\u001b[0m \u001b[38;5;28;01mfrom\u001b[39;00m \u001b[38;5;21;01mmodels\u001b[39;00m\u001b[38;5;21;01m.\u001b[39;00m\u001b[38;5;21;01mutility_functions\u001b[39;00m \u001b[38;5;28;01mimport\u001b[39;00m torch_random\n\u001b[1;32m      9\u001b[0m \u001b[38;5;28;01mfrom\u001b[39;00m \u001b[38;5;21;01mtests\u001b[39;00m\u001b[38;5;21;01m.\u001b[39;00m\u001b[38;5;21;01mttnn\u001b[39;00m\u001b[38;5;21;01m.\u001b[39;00m\u001b[38;5;21;01mutils_for_testing\u001b[39;00m \u001b[38;5;28;01mimport\u001b[39;00m assert_with_pcc\n",
      "\u001b[0;31mModuleNotFoundError\u001b[0m: No module named 'torch_functional_bert'"
     ]
    }
   ],
   "source": [
    "import pytest\n",
    "import torch\n",
    "import transformers\n",
    "\n",
    "import ttnn\n",
    "import torch_functional_bert # implemented here: https://github.com/tenstorrent-metal/tt-metal/blob/main/models/experimental/functional_bert/reference/torch_functional_bert.py\n",
    "\n",
    "from models.utility_functions import torch_random\n",
    "from tests.ttnn.utils_for_testing import assert_with_pcc\n",
    "\n",
    "@pytest.mark.parametrize(\"model_name\", [\"phiyodr/bert-large-finetuned-squad2\"])\n",
    "@pytest.mark.parametrize(\"batch_size\", [1])\n",
    "@pytest.mark.parametrize(\"sequence_size\", [384])\n",
    "def test_bert_intermediate(model_name, batch_size, sequence_size):\n",
    "    torch.manual_seed(0)\n",
    "\n",
    "    config = transformers.BertConfig.from_pretrained(model_name)\n",
    "    model = transformers.models.bert.modeling_bert.BertIntermediate(config).eval()\n",
    "\n",
    "    torch_hidden_states = torch_random((batch_size, sequence_size, config.hidden_size), -0.1, 0.1, dtype=torch.float32)\n",
    "    torch_output = model(torch_hidden_states) # Golden output\n",
    "\n",
    "\n",
    "    # where is this function defined? \n",
    "    # must be the following:\n",
    "    from ttnn.model_preprocessing import preprocess_model_parameters\n",
    "    parameters = preprocess_model_parameters(\n",
    "        initialize_model=lambda: model, # Function to initialize the model\n",
    "        convert_to_ttnn=lambda *_: False, # Keep the weights as torch tensors\n",
    "    )\n",
    "\n",
    "    output = torch_functional_bert.bert_intermediate(\n",
    "        torch_hidden_states,\n",
    "        parameters=parameters,\n",
    "    )\n",
    "\n",
    "    assert_with_pcc(torch_output, output, 0.9999)"
   ]
  },
  {
   "cell_type": "code",
   "execution_count": null,
   "id": "72163eac-6fa6-4ab9-9a72-f581cbabab7e",
   "metadata": {},
   "outputs": [],
   "source": []
  }
 ],
 "metadata": {
  "kernelspec": {
   "display_name": "Python 3 (ipykernel)",
   "language": "python",
   "name": "python3"
  },
  "language_info": {
   "codemirror_mode": {
    "name": "ipython",
    "version": 3
   },
   "file_extension": ".py",
   "mimetype": "text/x-python",
   "name": "python",
   "nbconvert_exporter": "python",
   "pygments_lexer": "ipython3",
   "version": "3.8.10"
  }
 },
 "nbformat": 4,
 "nbformat_minor": 5
}
