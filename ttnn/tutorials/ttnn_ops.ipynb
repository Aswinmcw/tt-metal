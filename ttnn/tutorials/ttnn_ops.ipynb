{
 "cells": [
  {
   "cell_type": "markdown",
   "id": "5e902ff7-19cc-470a-8ec1-e3132f61ad7d",
   "metadata": {},
   "source": [
    "# Imports and open device"
   ]
  },
  {
   "cell_type": "code",
   "execution_count": 1,
   "id": "3d7fc88b-3e04-4d00-a1d3-54086c4d32d9",
   "metadata": {},
   "outputs": [
    {
     "name": "stdout",
     "output_type": "stream",
     "text": [
      "\u001b[38;2;000;128;000m                  Metal\u001b[0m | \u001b[1m\u001b[38;2;100;149;237mINFO    \u001b[0m | Initializing device 0\n",
      "\u001b[38;2;000;128;000m                 Device\u001b[0m | \u001b[1m\u001b[38;2;100;149;237mINFO    \u001b[0m | Opening user mode device driver\n",
      "\u001b[32m2024-01-03 20:43:31.272\u001b[0m | \u001b[1m\u001b[38;2;100;149;237mINFO    \u001b[0m | \u001b[36mSiliconDriver  \u001b[0m - Detected 1 PCI device : {0}\n",
      "\u001b[32m2024-01-03 20:43:31.283\u001b[0m | \u001b[1m\u001b[38;2;255;165;000mWARNING \u001b[0m | \u001b[36mSiliconDriver  \u001b[0m - init_detect_tt_device_numanodes(): Could not determine NumaNodeSet for TT device (physical_device_id: 0 pci_bus_id: 0000:00:08.0)\n",
      "\u001b[32m2024-01-03 20:43:31.283\u001b[0m | \u001b[1m\u001b[38;2;255;165;000mWARNING \u001b[0m | \u001b[36mSiliconDriver  \u001b[0m - Could not find NumaNodeSet for TT Device (physical_device_id: 0 pci_bus_id: 0000:00:08.0)\n",
      "\u001b[32m2024-01-03 20:43:31.283\u001b[0m | \u001b[1m\u001b[38;2;100;149;237mINFO    \u001b[0m | \u001b[36mSiliconDriver  \u001b[0m - Using 1 Hugepages/NumHostMemChannels for TTDevice (logical_device_id: 0 pci_interface_id: 0 device_id: 0xfaca revision: 0)\n",
      "\u001b[32m2024-01-03 20:43:31.284\u001b[0m | \u001b[1m\u001b[38;2;255;165;000mWARNING \u001b[0m | \u001b[36mSiliconDriver  \u001b[0m - bind_area_memory_nodeset(): Unable to determine TT Device to NumaNode mapping for physical_device_id: 0. Skipping membind.\n",
      "\u001b[0;33m---- ttSiliconDevice::init_hugepage: bind_area_to_memory_nodeset() failed (physical_device_id: 0 ch: 0). Hugepage allocation is not on NumaNode matching TT Device. Side-Effect is decreased Device->Host perf (Issue #893).\n",
      "\u001b[0m\u001b[32m2024-01-03 20:43:31.371\u001b[0m | \u001b[1m\u001b[38;2;100;149;237mINFO    \u001b[0m | \u001b[36mSiliconDriver  \u001b[0m - Disable PCIE DMA\n",
      "\u001b[38;2;000;128;000m                  Metal\u001b[0m | \u001b[1m\u001b[38;2;100;149;237mINFO    \u001b[0m | AI CLK for device 0 is:   1202 MHz\n"
     ]
    }
   ],
   "source": [
    "import torch\n",
    "import ttnn\n",
    "device_id = 0\n",
    "device = ttnn.open(device_id)"
   ]
  },
  {
   "cell_type": "markdown",
   "id": "86ae32bf-39b1-45a6-85ee-1fa6b6ace993",
   "metadata": {},
   "source": [
    "# TTNN add"
   ]
  },
  {
   "cell_type": "code",
   "execution_count": null,
   "id": "03a79e98-e942-43b7-b2e7-d467183b2491",
   "metadata": {},
   "outputs": [],
   "source": [
    "# ttnn.add\n",
    "tensor1 = ttnn.to_device(ttnn.from_torch(torch.tensor((1, 2), dtype=torch.bfloat16)), device)\n",
    "tensor2 = ttnn.to_device(ttnn.from_torch(torch.tensor((0, 1), dtype=torch.bfloat16)), device)\n",
    "output = ttnn.add(tensor1, tensor2, alpha=2)\n",
    "print(output)"
   ]
  },
  {
   "cell_type": "markdown",
   "id": "28a320e6-a158-453d-98b8-a5a97a66a60b",
   "metadata": {},
   "source": [
    "# TTNN deallocate \n",
    "Freeup space"
   ]
  },
  {
   "cell_type": "code",
   "execution_count": null,
   "id": "475fbc54-f2e7-4324-9646-bea70a6813b2",
   "metadata": {},
   "outputs": [],
   "source": [
    "#ttnn.deallocate\n",
    "tensor = ttnn.to_device(ttnn.from_torch(torch.randn((10, 64, 32), dtype=torch.bfloat16)), device)\n",
    "tensor = ttnn.to_layout(tensor, layout=ttnn.TILE_LAYOUT)\n",
    "ttnn.deallocate(tensor)\n"
   ]
  },
  {
   "cell_type": "markdown",
   "id": "b100e3db-6cf0-49ff-890a-8599e86134ee",
   "metadata": {},
   "source": [
    "# TTNN embedding\n",
    "Retrieves word embeddings using input_tensor. The input_tensor is a list of indices, and the embedding matrix, and the output is the corresponding word embeddings."
   ]
  },
  {
   "cell_type": "code",
   "execution_count": null,
   "id": "c6e79a12-5934-4615-92de-67ffef01f147",
   "metadata": {},
   "outputs": [],
   "source": [
    "#ttnn.embedding\n",
    "input_tensor = ttnn.to_device(ttnn.from_torch(torch.tensor([[1, 2, 4, 5], [4, 3, 2, 9]]), dtype=ttnn.uint32), device)\n",
    "# an embedding matrix containing 10 tensors of size 4\n",
    "weights = ttnn.to_device(ttnn.from_torch(torch.rand(10, 4), dtype=ttnn.bfloat16), device)\n",
    "ttnn.embedding(input_tensor, weights)"
   ]
  },
  {
   "cell_type": "markdown",
   "id": "1fbb0953-296e-45b1-8b24-27614a24f603",
   "metadata": {},
   "source": [
    "# TTNN from-device\n",
    "Copies the ttnn.Tensor tensor to the host."
   ]
  },
  {
   "cell_type": "code",
   "execution_count": null,
   "id": "af5ea4c7-3983-4368-9d31-1a3a5f666219",
   "metadata": {},
   "outputs": [],
   "source": [
    "#ttnn.from_device\n",
    "tensor_on_device = ttnn.to_device(ttnn.from_torch(torch.randn((10, 64, 32), dtype=torch.bfloat16)), device)\n",
    "tensor_on_host = ttnn.from_device(tensor_on_device)\n",
    "print(tensor_on_host[0,0,:3])"
   ]
  },
  {
   "cell_type": "markdown",
   "id": "918858ce-e9cf-49dd-adfc-f6bb3ccdc120",
   "metadata": {},
   "source": [
    "# TTNN from_torch\n",
    "Converts the torch.Tensor tensor into a ttnn.Tensor."
   ]
  },
  {
   "cell_type": "code",
   "execution_count": null,
   "id": "adf827b8-119a-4d2b-a7a7-7f396bab5b29",
   "metadata": {},
   "outputs": [],
   "source": [
    "#ttnn.from_torch\n",
    "tensor = ttnn.from_torch(torch.randn((2,3)), dtype=ttnn.bfloat16)\n",
    "print(tensor)"
   ]
  },
  {
   "cell_type": "markdown",
   "id": "1b69eba7-584e-4316-a388-8403ebc131a9",
   "metadata": {},
   "source": [
    "# TTNN matmul"
   ]
  },
  {
   "cell_type": "markdown",
   "id": "32d60d2b-70db-4c75-b888-f8df56d152a7",
   "metadata": {},
   "source": [
    "# vector x vector (not supported)"
   ]
  },
  {
   "cell_type": "code",
   "execution_count": null,
   "id": "9c4b40f6-ee62-4d3f-9197-8eed81b4e8a4",
   "metadata": {},
   "outputs": [],
   "source": [
    "#ttnn.matmul\n",
    "# vector x vector\n",
    "tensor1 = ttnn.to_device(ttnn.from_torch(torch.randn((32), dtype=torch.bfloat16)), device)\n",
    "tensor2 = ttnn.to_device(ttnn.from_torch(torch.randn((32), dtype=torch.bfloat16)), device)\n",
    "# output = tensor1 @ tensor2\n",
    "# print(output.shape)"
   ]
  },
  {
   "cell_type": "markdown",
   "id": "61e45e5f-6095-439c-a5ba-8323cc9eab79",
   "metadata": {},
   "source": [
    "# matrix x vector (not supported)"
   ]
  },
  {
   "cell_type": "code",
   "execution_count": null,
   "id": "e5b6af31-bda8-46db-b4d3-16d5f4fbfe0b",
   "metadata": {},
   "outputs": [],
   "source": [
    "# matrix x vector\n",
    "tensor1 = ttnn.to_device(ttnn.from_torch(torch.randn((64, 32), dtype=torch.bfloat16)), device)\n",
    "tensor2 = ttnn.to_device(ttnn.from_torch(torch.randn((32), dtype=torch.bfloat16)), device)\n",
    "# output = tensor1 @ tensor2\n",
    "# print(output.shape)\n"
   ]
  },
  {
   "cell_type": "markdown",
   "id": "3b021d89-4282-46c1-a48e-c1597451f2ad",
   "metadata": {},
   "source": [
    "# Batched matrix x broadcasted vector (not supported)"
   ]
  },
  {
   "cell_type": "code",
   "execution_count": null,
   "id": "c5583e0f-3dc3-497e-a88b-0e5fac42e313",
   "metadata": {},
   "outputs": [],
   "source": [
    "# batched matrix x broadcasted vector\n",
    "tensor1 = ttnn.to_device(ttnn.from_torch(torch.randn((10, 64, 32), dtype=torch.bfloat16)), device)\n",
    "tensor2 = ttnn.to_device(ttnn.from_torch(torch.randn((32), dtype=torch.bfloat16)), device)\n",
    "# output = tensor1 @ tensor2\n",
    "# print(output.shape)\n"
   ]
  },
  {
   "cell_type": "markdown",
   "id": "1745d693-9f38-46f9-be89-5fc82339ce18",
   "metadata": {},
   "source": [
    "# Batched matrix x batched matrix"
   ]
  },
  {
   "cell_type": "code",
   "execution_count": null,
   "id": "19350cc6-df30-4c10-9484-7e81540c835a",
   "metadata": {},
   "outputs": [],
   "source": [
    "# batched matrix x batched matrix\n",
    "tensor1 = ttnn.to_device(ttnn.from_torch(torch.randn((10, 64, 32), dtype=torch.bfloat16)), device)\n",
    "tensor2 = ttnn.to_device(ttnn.from_torch(torch.randn((10, 32, 128), dtype=torch.bfloat16)), device)\n",
    "output = tensor1 @ tensor2\n",
    "print(output.shape)"
   ]
  },
  {
   "cell_type": "markdown",
   "id": "14b90785-6c52-434c-a6f9-dd14a9198dfa",
   "metadata": {},
   "source": [
    "# Batched matrix x broadcasted matrix "
   ]
  },
  {
   "cell_type": "code",
   "execution_count": null,
   "id": "895a49b1-71ad-4077-bfdf-4ce6e02a7d1e",
   "metadata": {},
   "outputs": [],
   "source": [
    "# batched matrix x broadcasted matrix\n",
    "tensor1 = ttnn.to_device(ttnn.from_torch(torch.randn((10, 64, 32), dtype=torch.bfloat16)), device)\n",
    "tensor2 = ttnn.to_device(ttnn.from_torch(torch.randn((32, 128), dtype=torch.bfloat16)), device)\n",
    "output = tensor1 @ tensor2\n",
    "print(output.shape)"
   ]
  },
  {
   "cell_type": "markdown",
   "id": "0753f639-df3f-407c-b8da-55b0122e5fc7",
   "metadata": {},
   "source": [
    "# TTNN mul\n",
    "elementwise multiplication "
   ]
  },
  {
   "cell_type": "code",
   "execution_count": null,
   "id": "b3675875-bcff-401d-9640-b90371d1c01f",
   "metadata": {},
   "outputs": [],
   "source": [
    "#ttnn.mul\n",
    "tensor1 = ttnn.to_device(ttnn.from_torch(torch.tensor((1, 2), dtype=torch.bfloat16)), device)\n",
    "tensor2 = ttnn.to_device(ttnn.from_torch(torch.tensor((0, 1), dtype=torch.bfloat16)), device)\n",
    "output = ttnn.mul(tensor1, tensor2)\n",
    "print(output)"
   ]
  },
  {
   "cell_type": "markdown",
   "id": "865f8131-ec68-4af8-910c-43b46fbdbec9",
   "metadata": {},
   "source": [
    "# TTNN permute"
   ]
  },
  {
   "cell_type": "code",
   "execution_count": null,
   "id": "dd32c139-4bdf-4f4a-8930-c4ce7667bdaa",
   "metadata": {},
   "outputs": [],
   "source": [
    "#ttnn.permute\n",
    "tensor = ttnn.to_device(ttnn.from_torch(torch.zeros((1, 1, 64, 32), dtype=torch.bfloat16)), device)\n",
    "output = ttnn.permute(tensor, (0, 1, 3, 2))\n",
    "print(output.shape)"
   ]
  },
  {
   "cell_type": "markdown",
   "id": "225b22f4-159a-4279-9a0e-f30df273f5af",
   "metadata": {},
   "source": [
    "# TTNN reshape"
   ]
  },
  {
   "cell_type": "code",
   "execution_count": null,
   "id": "40adeaff-a7b7-49ad-adfe-f59d5db64fb7",
   "metadata": {},
   "outputs": [],
   "source": [
    "#ttnn.reshape\n",
    "tensor = ttnn.to_device(ttnn.from_torch(torch.zeros((1, 1, 64, 32), dtype=torch.bfloat16)), device)\n",
    "output = ttnn.reshape(tensor, (1, 1, 32, 64))\n",
    "print(output.shape)"
   ]
  },
  {
   "cell_type": "markdown",
   "id": "b5bcef67-a335-41b3-964f-a22fe61b3fad",
   "metadata": {},
   "source": [
    "# TTNN softmax"
   ]
  },
  {
   "cell_type": "code",
   "execution_count": null,
   "id": "427d4163-4a5f-437f-8aeb-01e6b22dcf19",
   "metadata": {},
   "outputs": [],
   "source": [
    "#ttnn.softmax\n",
    "tensor = ttnn.to_device(ttnn.from_torch(torch.zeros((1, 1, 64, 32), dtype=torch.bfloat16)), device)\n",
    "output = ttnn.softmax(tensor, -1)\n",
    "output = ttnn.to_layout(output, ttnn.ROW_MAJOR_LAYOUT)\n",
    "print(output[0, 0, 0, :4])"
   ]
  },
  {
   "cell_type": "markdown",
   "id": "2c1fcb7e-87b0-4d12-878c-729a78627402",
   "metadata": {},
   "source": [
    "# TTNN subtract\n",
    "Subtracts tensor2, scaled by alpha, from tensor1."
   ]
  },
  {
   "cell_type": "code",
   "execution_count": null,
   "id": "2f22265c-bfd1-4b3b-aea5-edbeae4dd56d",
   "metadata": {},
   "outputs": [],
   "source": [
    "#ttnn.sub\n",
    "tensor1 = ttnn.to_device(ttnn.from_torch(torch.tensor((1, 2), dtype=torch.bfloat16)), device)\n",
    "tensor2 = ttnn.to_device(ttnn.from_torch(torch.tensor((0, 1), dtype=torch.bfloat16)), device)\n",
    "output = ttnn.sub(tensor1, tensor2, alpha=2)\n",
    "print(output)"
   ]
  },
  {
   "cell_type": "markdown",
   "id": "cbc6072d-70bd-4e60-8439-31ff0804d015",
   "metadata": {},
   "source": [
    "# TTNN to_device\n",
    "Copies the ttnn.Tensor tensor to the tt_lib.device.Device. The tensor may be placed in DRAM or L1 memory."
   ]
  },
  {
   "cell_type": "code",
   "execution_count": null,
   "id": "fa6df8be-395a-461a-ab0d-2fa9b091d3dd",
   "metadata": {},
   "outputs": [],
   "source": [
    "#ttnn.to_device\n",
    "tensor_on_host = ttnn.from_torch(torch.randn((10, 64, 32)), dtype=ttnn.bfloat16)\n",
    "tensor_on_device = ttnn.to_device(tensor_on_host, device, memory_config=ttnn.L1_MEMORY_CONFIG)\n",
    "print(tensor_on_device[0,0,:4])"
   ]
  },
  {
   "cell_type": "markdown",
   "id": "064b306f-a542-46a8-b2a0-224d6038afcc",
   "metadata": {},
   "source": [
    "# TTNN to_layout\n",
    "Organizes the ttnn.Tensor tensor into eiter ROW_MAJOR_LAYOUT or TILE_LAYOUT. "
   ]
  },
  {
   "cell_type": "code",
   "execution_count": null,
   "id": "f905789a-cf29-4333-8179-357bc71cc046",
   "metadata": {},
   "outputs": [],
   "source": [
    "#ttnn.to_layout\n",
    "tensor = ttnn.to_device(ttnn.from_torch(torch.randn((10, 64, 32), dtype=torch.bfloat16)), device)\n",
    "tensor = ttnn.to_layout(tensor, layout=ttnn.TILE_LAYOUT)"
   ]
  },
  {
   "cell_type": "code",
   "execution_count": null,
   "id": "c46eae0e-c851-417d-96ca-e7732ed0a63c",
   "metadata": {},
   "outputs": [],
   "source": [
    "#ttnn.to_torch\n",
    "ttnn_tensor = ttnn.from_torch(torch.randn((2,3)), dtype=ttnn.bfloat16)\n",
    "torch_tensor = ttnn.to_torch(ttnn_tensor)\n",
    "print(torch_tensor)"
   ]
  },
  {
   "cell_type": "code",
   "execution_count": null,
   "id": "47b6c31b-e1a7-47cd-9e81-800f9138c9a6",
   "metadata": {},
   "outputs": [],
   "source": []
  },
  {
   "cell_type": "code",
   "execution_count": null,
   "id": "ca5ecee0-04e3-4d68-8393-1ced607664f0",
   "metadata": {},
   "outputs": [],
   "source": []
  }
 ],
 "metadata": {
  "kernelspec": {
   "display_name": "Python 3 (ipykernel)",
   "language": "python",
   "name": "python3"
  },
  "language_info": {
   "codemirror_mode": {
    "name": "ipython",
    "version": 3
   },
   "file_extension": ".py",
   "mimetype": "text/x-python",
   "name": "python",
   "nbconvert_exporter": "python",
   "pygments_lexer": "ipython3",
   "version": "3.8.10"
  }
 },
 "nbformat": 4,
 "nbformat_minor": 5
}
