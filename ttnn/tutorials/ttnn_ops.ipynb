{
 "cells": [
  {
   "cell_type": "code",
   "execution_count": 1,
   "id": "3d7fc88b-3e04-4d00-a1d3-54086c4d32d9",
   "metadata": {},
   "outputs": [
    {
     "name": "stdout",
     "output_type": "stream",
     "text": [
      "\u001b[38;2;000;128;000m                  Metal\u001b[0m | \u001b[1m\u001b[38;2;100;149;237mINFO    \u001b[0m | Initializing device 0\n",
      "\u001b[38;2;000;128;000m                 Device\u001b[0m | \u001b[1m\u001b[38;2;100;149;237mINFO    \u001b[0m | Opening user mode device driver\n",
      "\u001b[32m2023-12-09 00:46:45.645\u001b[0m | \u001b[1m\u001b[38;2;100;149;237mINFO    \u001b[0m | \u001b[36mSiliconDriver  \u001b[0m - Detected 1 PCI device\n",
      "\u001b[32m2023-12-09 00:46:45.660\u001b[0m | \u001b[1m\u001b[38;2;100;149;237mINFO    \u001b[0m | \u001b[36mSiliconDriver  \u001b[0m - Using 1 Hugepages/NumHostMemChannels for TTDevice (pci_interface_id: 0 device_id: 0xfaca revision: 0)\n",
      "\u001b[32m2023-12-09 00:46:45.752\u001b[0m | \u001b[1m\u001b[38;2;100;149;237mINFO    \u001b[0m | \u001b[36mSiliconDriver  \u001b[0m - Disable PCIE DMA\n",
      "\u001b[38;2;000;128;000m                  Metal\u001b[0m | \u001b[1m\u001b[38;2;100;149;237mINFO    \u001b[0m | AI CLK for device 0 is:   1202 MHz\n"
     ]
    }
   ],
   "source": [
    "import torch\n",
    "import ttnn\n",
    "device_id = 0\n",
    "device = ttnn.open(device_id)"
   ]
  },
  {
   "cell_type": "code",
   "execution_count": 2,
   "id": "03a79e98-e942-43b7-b2e7-d467183b2491",
   "metadata": {},
   "outputs": [
    {
     "name": "stdout",
     "output_type": "stream",
     "text": [
      "Tensor([ 1, 4], dtype=bfloat16 )\n",
      "\n"
     ]
    }
   ],
   "source": [
    "# ttnn.add\n",
    "tensor1 = ttnn.to_device(ttnn.from_torch(torch.tensor((1, 2), dtype=torch.bfloat16)), device)\n",
    "tensor2 = ttnn.to_device(ttnn.from_torch(torch.tensor((0, 1), dtype=torch.bfloat16)), device)\n",
    "output = ttnn.add(tensor1, tensor2, alpha=2)\n",
    "print(output)"
   ]
  },
  {
   "cell_type": "code",
   "execution_count": 3,
   "id": "475fbc54-f2e7-4324-9646-bea70a6813b2",
   "metadata": {},
   "outputs": [],
   "source": [
    "#ttnn.deallocate\n",
    "tensor = ttnn.to_device(ttnn.from_torch(torch.randn((10, 64, 32), dtype=torch.bfloat16)), device)\n",
    "tensor = ttnn.to_layout(tensor, layout=ttnn.TILE_LAYOUT)\n",
    "ttnn.deallocate(tensor)\n"
   ]
  },
  {
   "cell_type": "code",
   "execution_count": 4,
   "id": "c6e79a12-5934-4615-92de-67ffef01f147",
   "metadata": {},
   "outputs": [
    {
     "data": {
      "text/plain": [
       "Tensor([ [[0.804688, 0.0393066, 0.410156, 0.652344],\n",
       "    [0.652344, 0.371094, 0.0595703, 0.570312],\n",
       "    [0.5625, 0.498047, 0.867188, 0.238281],\n",
       "    [0.273438, 0.75, 0.375, 0.871094]],\n",
       "\n",
       "   [[0.5625, 0.498047, 0.867188, 0.238281],\n",
       "    [0.277344, 0.953125, 0.214844, 0.765625],\n",
       "    [0.652344, 0.371094, 0.0595703, 0.570312],\n",
       "    [0.867188, 0.519531, 0.6875, 0.789062]]], dtype=bfloat16 )"
      ]
     },
     "execution_count": 4,
     "metadata": {},
     "output_type": "execute_result"
    }
   ],
   "source": [
    "#ttnn.embedding\n",
    "input_tensor = ttnn.to_device(ttnn.from_torch(torch.tensor([[1, 2, 4, 5], [4, 3, 2, 9]]), dtype=ttnn.uint32), device)\n",
    "# an embedding matrix containing 10 tensors of size 4\n",
    "weights = ttnn.to_device(ttnn.from_torch(torch.rand(10, 4), dtype=ttnn.bfloat16), device)\n",
    "ttnn.embedding(input_tensor, weights)"
   ]
  },
  {
   "cell_type": "code",
   "execution_count": 5,
   "id": "af5ea4c7-3983-4368-9d31-1a3a5f666219",
   "metadata": {},
   "outputs": [
    {
     "name": "stdout",
     "output_type": "stream",
     "text": [
      "Tensor([ 0.0201416, -0.9375, 0.388672], dtype=bfloat16 )\n",
      "\n"
     ]
    }
   ],
   "source": [
    "#ttnn.from_device\n",
    "tensor_on_device = ttnn.to_device(ttnn.from_torch(torch.randn((10, 64, 32), dtype=torch.bfloat16)), device)\n",
    "tensor_on_host = ttnn.from_device(tensor_on_device)\n",
    "print(tensor_on_host[0,0,:3])"
   ]
  },
  {
   "cell_type": "code",
   "execution_count": 6,
   "id": "adf827b8-119a-4d2b-a7a7-7f396bab5b29",
   "metadata": {},
   "outputs": [
    {
     "name": "stdout",
     "output_type": "stream",
     "text": [
      "Tensor([ [-0.165039, -1.0625, -0.261719],\n",
      "    [-0.219727, 1.46094, 1.25]], dtype=bfloat16 )\n",
      "\n"
     ]
    }
   ],
   "source": [
    "#ttnn.from_torch\n",
    "tensor = ttnn.from_torch(torch.randn((2,3)), dtype=ttnn.bfloat16)\n",
    "print(tensor)"
   ]
  },
  {
   "cell_type": "code",
   "execution_count": 7,
   "id": "9c4b40f6-ee62-4d3f-9197-8eed81b4e8a4",
   "metadata": {},
   "outputs": [
    {
     "name": "stdout",
     "output_type": "stream",
     "text": [
      "\u001b[38;2;000;128;000m                 Always\u001b[0m | \u001b[1m\u001b[38;2;255;000;000mFATAL   \u001b[0m | Page size must be divisible by sizeof(uint32_t) because buffers hold uint32_t values\n"
     ]
    },
    {
     "ename": "RuntimeError",
     "evalue": "TT_FATAL @ tt_metal/impl/buffers/buffer.cpp:22: page_size % sizeof(uint32_t) == 0\ninfo:\nPage size must be divisible by sizeof(uint32_t) because buffers hold uint32_t values\nbacktrace:\n --- tt::tt_metal::Buffer::Buffer(tt::tt_metal::Device*, unsigned long, unsigned long, tt::tt_metal::BufferType)\n --- tt::tt_metal::tensor_impl::detail::allocate_interleaved_buffer_on_device(unsigned int, tt::tt_metal::Device*, tt::tt_metal::Shape const&, tt::tt_metal::DataType, tt::tt_metal::Layout, tt::tt_metal::MemoryConfig const&)\n --- tt::tt_metal::tensor_impl::allocate_buffer_on_device(unsigned int, tt::tt_metal::Device*, tt::tt_metal::Shape const&, tt::tt_metal::DataType, tt::tt_metal::Layout, tt::tt_metal::MemoryConfig const&)\n --- /home/dvartanians/tt-metal/tt_eager/tt_lib/_C.so(+0x50f507) [0x7fb557204507]\n --- /home/dvartanians/tt-metal/tt_eager/tt_lib/_C.so(_ZNSt8__detail9__variant17__gen_vtable_implILb1ENS0_12_Multi_arrayIPFSt10shared_ptrIN2tt8tt_metal6BufferEEOZNS5_11tensor_impl16to_device_bufferI8bfloat16EES7_RKSt7variantIJNS5_12OwnedStorageENS5_13DeviceStorageENS5_15BorrowedStorageEEEPNS5_6DeviceERKNS5_5ShapeENS5_8DataTypeENS5_6LayoutERKNS5_12MemoryConfigEEUlOT_E_SH_EJEEESt5tupleIJSH_EESt16integer_sequenceImJLm2EEEE14__visit_invokeESV_SH_+0x22) [0x7fb557204bf2]\n --- /home/dvartanians/tt-metal/tt_eager/tt_lib/_C.so(+0x50c706) [0x7fb557201706]\n --- std::_Function_handler<tt::tt_metal::Tensor (tt::tt_metal::Tensor const&, tt::tt_metal::Device*, tt::tt_metal::MemoryConfig const&), tt::tt_metal::Tensor (*)(tt::tt_metal::Tensor const&, tt::tt_metal::Device*, tt::tt_metal::MemoryConfig const&)>::_M_invoke(std::_Any_data const&, tt::tt_metal::Tensor const&, tt::tt_metal::Device*&&, tt::tt_metal::MemoryConfig const&)\n --- tt::tt_metal::tensor_impl::to_device_wrapper(tt::tt_metal::Tensor const&, tt::tt_metal::Device*, tt::tt_metal::MemoryConfig const&)\n --- tt::tt_metal::Tensor::to(tt::tt_metal::Device*, tt::tt_metal::MemoryConfig const&) const\n --- /home/dvartanians/tt-metal/tt_eager/tt_lib/_C.so(+0x1c89ab) [0x7fb556ebd9ab]\n --- /home/dvartanians/tt-metal/tt_eager/tt_lib/_C.so(+0x141516) [0x7fb556e36516]\n --- /home/dvartanians/tt-metal/build/python_env/bin/python3.8(PyCFunction_Call+0x59) [0x5d5499]\n --- /home/dvartanians/tt-metal/build/python_env/bin/python3.8(_PyObject_MakeTpCall+0x296) [0x5d6066]\n --- /home/dvartanians/tt-metal/build/python_env/bin/python3.8() [0x4e22b3]\n --- /home/dvartanians/tt-metal/build/python_env/bin/python3.8(_PyEval_EvalFrameDefault+0x5d69) [0x54c8a9]\n --- /home/dvartanians/tt-metal/build/python_env/bin/python3.8(_PyEval_EvalCodeWithName+0x26a) [0x54552a]\n --- /home/dvartanians/tt-metal/build/python_env/bin/python3.8(_PyFunction_Vectorcall+0x393) [0x5d5a23]\n --- /home/dvartanians/tt-metal/build/python_env/bin/python3.8(PyObject_Call+0x62) [0x5d4c12]\n --- /home/dvartanians/tt-metal/tt_eager/tt_lib/_C.so(+0x1ddd00) [0x7fb556ed2d00]\n --- /home/dvartanians/tt-metal/tt_eager/tt_lib/_C.so(+0x1d2c9c) [0x7fb556ec7c9c]\n --- /home/dvartanians/tt-metal/tt_eager/tt_lib/_C.so(+0x1d554d) [0x7fb556eca54d]\n --- /home/dvartanians/tt-metal/tt_eager/tt_lib/_C.so(+0x141516) [0x7fb556e36516]\n --- /home/dvartanians/tt-metal/build/python_env/bin/python3.8(PyCFunction_Call+0x59) [0x5d5499]\n --- /home/dvartanians/tt-metal/build/python_env/bin/python3.8(_PyObject_MakeTpCall+0x296) [0x5d6066]\n --- /home/dvartanians/tt-metal/build/python_env/bin/python3.8(_PyEval_EvalFrameDefault+0x690a) [0x54d44a]\n --- /home/dvartanians/tt-metal/build/python_env/bin/python3.8(_PyEval_EvalCodeWithName+0x26a) [0x54552a]\n --- /home/dvartanians/tt-metal/build/python_env/bin/python3.8(_PyFunction_Vectorcall+0x393) [0x5d5a23]\n --- /home/dvartanians/tt-metal/build/python_env/bin/python3.8(_PyEval_EvalFrameDefault+0x725) [0x547265]\n --- /home/dvartanians/tt-metal/build/python_env/bin/python3.8(_PyFunction_Vectorcall+0x1b6) [0x5d5846]\n --- /home/dvartanians/tt-metal/build/python_env/bin/python3.8(_PyEval_EvalFrameDefault+0x725) [0x547265]\n --- /home/dvartanians/tt-metal/build/python_env/bin/python3.8(_PyEval_EvalCodeWithName+0x26a) [0x54552a]\n --- /home/dvartanians/tt-metal/build/python_env/bin/python3.8(_PyFunction_Vectorcall+0x393) [0x5d5a23]\n --- /home/dvartanians/tt-metal/build/python_env/bin/python3.8() [0x551a88]\n --- /home/dvartanians/tt-metal/build/python_env/bin/python3.8(_PyObject_FastCall_Prepend+0x55) [0x5d49d5]\n --- /home/dvartanians/tt-metal/build/python_env/bin/python3.8() [0x5dd83f]\n --- /home/dvartanians/tt-metal/build/python_env/bin/python3.8() [0x4ab2c0]\n --- /home/dvartanians/tt-metal/build/python_env/bin/python3.8() [0x4e59c7]\n --- /home/dvartanians/tt-metal/build/python_env/bin/python3.8() [0x5ff77a]\n --- /home/dvartanians/tt-metal/build/python_env/bin/python3.8(_PyEval_EvalFrameDefault+0x53ac) [0x54beec]\n --- /home/dvartanians/tt-metal/build/python_env/bin/python3.8(_PyEval_EvalCodeWithName+0x26a) [0x54552a]\n --- /home/dvartanians/tt-metal/build/python_env/bin/python3.8(PyEval_EvalCode+0x27) [0x684327]\n --- /home/dvartanians/tt-metal/build/python_env/bin/python3.8() [0x5e1514]\n --- /home/dvartanians/tt-metal/build/python_env/bin/python3.8() [0x5a27d0]\n --- /home/dvartanians/tt-metal/build/python_env/bin/python3.8(_PyEval_EvalFrameDefault+0x725) [0x547265]\n --- /home/dvartanians/tt-metal/build/python_env/bin/python3.8() [0x4d71f8]\n --- /home/dvartanians/tt-metal/build/python_env/bin/python3.8(_PyEval_EvalFrameDefault+0x212b) [0x548c6b]\n --- /home/dvartanians/tt-metal/build/python_env/bin/python3.8() [0x4d71f8]\n --- /home/dvartanians/tt-metal/build/python_env/bin/python3.8(_PyEval_EvalFrameDefault+0x212b) [0x548c6b]\n --- /home/dvartanians/tt-metal/build/python_env/bin/python3.8() [0x4d71f8]\n --- /home/dvartanians/tt-metal/build/python_env/bin/python3.8() [0x4daf8a]\n --- /home/dvartanians/tt-metal/build/python_env/bin/python3.8(_PyEval_EvalFrameDefault+0x907) [0x547447]\n --- /home/dvartanians/tt-metal/build/python_env/bin/python3.8(_PyFunction_Vectorcall+0x1b6) [0x5d5846]\n --- /home/dvartanians/tt-metal/build/python_env/bin/python3.8(_PyEval_EvalFrameDefault+0x725) [0x547265]\n --- /home/dvartanians/tt-metal/build/python_env/bin/python3.8(_PyFunction_Vectorcall+0x1b6) [0x5d5846]\n --- /home/dvartanians/tt-metal/build/python_env/bin/python3.8(_PyEval_EvalFrameDefault+0x907) [0x547447]\n --- /home/dvartanians/tt-metal/build/python_env/bin/python3.8(_PyEval_EvalCodeWithName+0x26a) [0x54552a]\n --- /home/dvartanians/tt-metal/build/python_env/bin/python3.8(_PyFunction_Vectorcall+0x393) [0x5d5a23]\n --- /home/dvartanians/tt-metal/build/python_env/bin/python3.8() [0x4e1b5c]\n --- /home/dvartanians/tt-metal/build/python_env/bin/python3.8(PyObject_Call+0x62) [0x5d4c12]\n --- /home/dvartanians/tt-metal/build/python_env/bin/python3.8(_PyEval_EvalFrameDefault+0x1f26) [0x548a66]\n --- /home/dvartanians/tt-metal/build/python_env/bin/python3.8(_PyEval_EvalCodeWithName+0x26a) [0x54552a]\n --- /home/dvartanians/tt-metal/build/python_env/bin/python3.8() [0x4e1bd0]\n --- /home/dvartanians/tt-metal/build/python_env/bin/python3.8(_PyEval_EvalFrameDefault+0x1876) [0x5483b6]\n --- /home/dvartanians/tt-metal/build/python_env/bin/python3.8() [0x4d71f8]\n --- /home/dvartanians/tt-metal/build/python_env/bin/python3.8(_PyEval_EvalFrameDefault+0x212b) [0x548c6b]\n --- /home/dvartanians/tt-metal/build/python_env/bin/python3.8() [0x4d71f8]\n --- /home/dvartanians/tt-metal/build/python_env/bin/python3.8(_PyEval_EvalFrameDefault+0x212b) [0x548c6b]\n --- /home/dvartanians/tt-metal/build/python_env/bin/python3.8() [0x4d71f8]\n --- /home/dvartanians/tt-metal/build/python_env/bin/python3.8(_PyEval_EvalFrameDefault+0x212b) [0x548c6b]\n --- /home/dvartanians/tt-metal/build/python_env/bin/python3.8() [0x4d71f8]\n --- /home/dvartanians/tt-metal/build/python_env/bin/python3.8(_PyEval_EvalFrameDefault+0x212b) [0x548c6b]\n --- /home/dvartanians/tt-metal/build/python_env/bin/python3.8() [0x4d71f8]\n --- /usr/lib/python3.8/lib-dynload/_asyncio.cpython-38-x86_64-linux-gnu.so(+0x7ef9) [0x7fb5c9df9ef9]\n --- /usr/lib/python3.8/lib-dynload/_asyncio.cpython-38-x86_64-linux-gnu.so(+0x9083) [0x7fb5c9dfb083]\n --- /home/dvartanians/tt-metal/build/python_env/bin/python3.8(_PyObject_MakeTpCall+0x296) [0x5d6066]\n --- /home/dvartanians/tt-metal/build/python_env/bin/python3.8() [0x5dfc0b]\n --- /home/dvartanians/tt-metal/build/python_env/bin/python3.8() [0x5a26b7]\n --- /home/dvartanians/tt-metal/build/python_env/bin/python3.8(PyVectorcall_Call+0x58) [0x5d51d8]\n --- /home/dvartanians/tt-metal/build/python_env/bin/python3.8(_PyEval_EvalFrameDefault+0x6eb0) [0x54d9f0]\n --- /home/dvartanians/tt-metal/build/python_env/bin/python3.8(_PyFunction_Vectorcall+0x1b6) [0x5d5846]\n --- /home/dvartanians/tt-metal/build/python_env/bin/python3.8(_PyEval_EvalFrameDefault+0x907) [0x547447]\n --- /home/dvartanians/tt-metal/build/python_env/bin/python3.8(_PyFunction_Vectorcall+0x1b6) [0x5d5846]\n --- /home/dvartanians/tt-metal/build/python_env/bin/python3.8(_PyEval_EvalFrameDefault+0x907) [0x547447]\n --- /home/dvartanians/tt-metal/build/python_env/bin/python3.8(_PyFunction_Vectorcall+0x1b6) [0x5d5846]\n --- /home/dvartanians/tt-metal/build/python_env/bin/python3.8(_PyEval_EvalFrameDefault+0x907) [0x547447]\n --- /home/dvartanians/tt-metal/build/python_env/bin/python3.8(_PyFunction_Vectorcall+0x1b6) [0x5d5846]\n --- /home/dvartanians/tt-metal/build/python_env/bin/python3.8(_PyEval_EvalFrameDefault+0x907) [0x547447]\n --- /home/dvartanians/tt-metal/build/python_env/bin/python3.8(_PyFunction_Vectorcall+0x1b6) [0x5d5846]\n --- /home/dvartanians/tt-metal/build/python_env/bin/python3.8(_PyEval_EvalFrameDefault+0x907) [0x547447]\n --- /home/dvartanians/tt-metal/build/python_env/bin/python3.8(_PyEval_EvalCodeWithName+0x26a) [0x54552a]\n --- /home/dvartanians/tt-metal/build/python_env/bin/python3.8() [0x4e1bd0]\n --- /home/dvartanians/tt-metal/build/python_env/bin/python3.8(_PyEval_EvalFrameDefault+0x5d69) [0x54c8a9]\n --- /home/dvartanians/tt-metal/build/python_env/bin/python3.8(_PyEval_EvalCodeWithName+0x26a) [0x54552a]\n --- /home/dvartanians/tt-metal/build/python_env/bin/python3.8(PyEval_EvalCode+0x27) [0x684327]\n --- /home/dvartanians/tt-metal/build/python_env/bin/python3.8() [0x5e1514]\n --- /home/dvartanians/tt-metal/build/python_env/bin/python3.8() [0x5a27d0]\n --- /home/dvartanians/tt-metal/build/python_env/bin/python3.8(_PyEval_EvalFrameDefault+0x725) [0x547265]\n",
     "output_type": "error",
     "traceback": [
      "\u001b[0;31m---------------------------------------------------------------------------\u001b[0m",
      "\u001b[0;31mRuntimeError\u001b[0m                              Traceback (most recent call last)",
      "Cell \u001b[0;32mIn[7], line 5\u001b[0m\n\u001b[1;32m      3\u001b[0m tensor1 \u001b[38;5;241m=\u001b[39m ttnn\u001b[38;5;241m.\u001b[39mto_device(ttnn\u001b[38;5;241m.\u001b[39mfrom_torch(torch\u001b[38;5;241m.\u001b[39mrandn((\u001b[38;5;241m32\u001b[39m), dtype\u001b[38;5;241m=\u001b[39mtorch\u001b[38;5;241m.\u001b[39mbfloat16)), device)\n\u001b[1;32m      4\u001b[0m tensor2 \u001b[38;5;241m=\u001b[39m ttnn\u001b[38;5;241m.\u001b[39mto_device(ttnn\u001b[38;5;241m.\u001b[39mfrom_torch(torch\u001b[38;5;241m.\u001b[39mrandn((\u001b[38;5;241m32\u001b[39m), dtype\u001b[38;5;241m=\u001b[39mtorch\u001b[38;5;241m.\u001b[39mbfloat16)), device)\n\u001b[0;32m----> 5\u001b[0m output \u001b[38;5;241m=\u001b[39m \u001b[43mtensor1\u001b[49m\u001b[43m \u001b[49m\u001b[38;5;241;43m@\u001b[39;49m\u001b[43m \u001b[49m\u001b[43mtensor2\u001b[49m\n\u001b[1;32m      6\u001b[0m \u001b[38;5;28mprint\u001b[39m(output\u001b[38;5;241m.\u001b[39mshape)\n",
      "File \u001b[0;32m~/tt-metal/ttnn/core.py:214\u001b[0m, in \u001b[0;36mmatmul\u001b[0;34m(input_tensor_a, input_tensor_b, memory_config, dtype, core_grid)\u001b[0m\n\u001b[1;32m    211\u001b[0m     \u001b[38;5;241m*\u001b[39mbatch_shape_b, height_b, width_b \u001b[38;5;241m=\u001b[39m input_shape_b\n\u001b[1;32m    213\u001b[0m input_tensor_a \u001b[38;5;241m=\u001b[39m reshape(input_tensor_a, \u001b[38;5;28mtuple\u001b[39m(batch_shape_a \u001b[38;5;241m+\u001b[39m [height_a, width_a]))\n\u001b[0;32m--> 214\u001b[0m input_tensor_b \u001b[38;5;241m=\u001b[39m \u001b[43mreshape\u001b[49m\u001b[43m(\u001b[49m\u001b[43minput_tensor_b\u001b[49m\u001b[43m,\u001b[49m\u001b[43m \u001b[49m\u001b[38;5;28;43mtuple\u001b[39;49m\u001b[43m(\u001b[49m\u001b[43mbatch_shape_b\u001b[49m\u001b[43m \u001b[49m\u001b[38;5;241;43m+\u001b[39;49m\u001b[43m \u001b[49m\u001b[43m[\u001b[49m\u001b[43mheight_b\u001b[49m\u001b[43m,\u001b[49m\u001b[43m \u001b[49m\u001b[43mwidth_b\u001b[49m\u001b[43m]\u001b[49m\u001b[43m)\u001b[49m\u001b[43m)\u001b[49m\n\u001b[1;32m    216\u001b[0m input_tensor_a \u001b[38;5;241m=\u001b[39m _reshape_to_4D(input_tensor_a)\n\u001b[1;32m    217\u001b[0m input_tensor_b \u001b[38;5;241m=\u001b[39m _reshape_to_4D(input_tensor_b)\n",
      "File \u001b[0;32m~/tt-metal/ttnn/core.py:1028\u001b[0m, in \u001b[0;36mreshape\u001b[0;34m(input_tensor, shape)\u001b[0m\n\u001b[1;32m   1026\u001b[0m     tensor \u001b[38;5;241m=\u001b[39m ttl\u001b[38;5;241m.\u001b[39mtensor\u001b[38;5;241m.\u001b[39mdecorate_external_operation(torch_reshape, function_name\u001b[38;5;241m=\u001b[39m\u001b[38;5;124m\"\u001b[39m\u001b[38;5;124mtorch.reshape\u001b[39m\u001b[38;5;124m\"\u001b[39m)(tensor, shape)\n\u001b[1;32m   1027\u001b[0m     tensor \u001b[38;5;241m=\u001b[39m from_torch(tensor, input_tensor\u001b[38;5;241m.\u001b[39mdtype)\n\u001b[0;32m-> 1028\u001b[0m     tensor \u001b[38;5;241m=\u001b[39m \u001b[43mto_device\u001b[49m\u001b[43m(\u001b[49m\u001b[43mtensor\u001b[49m\u001b[43m,\u001b[49m\u001b[43m \u001b[49m\u001b[43mdevice\u001b[49m\u001b[43m)\u001b[49m\n\u001b[1;32m   1029\u001b[0m \u001b[38;5;28;01melse\u001b[39;00m:\n\u001b[1;32m   1030\u001b[0m     tensor \u001b[38;5;241m=\u001b[39m to_layout(input_tensor, ROW_MAJOR_LAYOUT)\n",
      "File \u001b[0;32m~/tt-metal/ttnn/tensor.py:167\u001b[0m, in \u001b[0;36mto_device\u001b[0;34m(tensor, device, memory_config)\u001b[0m\n\u001b[1;32m    164\u001b[0m     ttl_tensor \u001b[38;5;241m=\u001b[39m tensor\u001b[38;5;241m.\u001b[39m_tensor\n\u001b[1;32m    165\u001b[0m     \u001b[38;5;28;01mreturn\u001b[39;00m Tensor(ttl_tensor\u001b[38;5;241m.\u001b[39mto(device, memory_config))\n\u001b[0;32m--> 167\u001b[0m \u001b[38;5;28;01mreturn\u001b[39;00m \u001b[43mttl\u001b[49m\u001b[38;5;241;43m.\u001b[39;49m\u001b[43mtensor\u001b[49m\u001b[38;5;241;43m.\u001b[39;49m\u001b[43mdecorate_external_operation\u001b[49m\u001b[43m(\u001b[49m\u001b[43mimpl\u001b[49m\u001b[43m,\u001b[49m\u001b[43m \u001b[49m\u001b[43mfunction_name\u001b[49m\u001b[38;5;241;43m=\u001b[39;49m\u001b[38;5;124;43m\"\u001b[39;49m\u001b[38;5;124;43mttnn.to_device\u001b[39;49m\u001b[38;5;124;43m\"\u001b[39;49m\u001b[43m)\u001b[49m\u001b[43m(\u001b[49m\n\u001b[1;32m    168\u001b[0m \u001b[43m    \u001b[49m\u001b[43mtensor\u001b[49m\u001b[43m,\u001b[49m\u001b[43m \u001b[49m\u001b[43mdevice\u001b[49m\u001b[43m,\u001b[49m\u001b[43m \u001b[49m\u001b[43mmemory_config\u001b[49m\u001b[38;5;241;43m=\u001b[39;49m\u001b[43mmemory_config\u001b[49m\n\u001b[1;32m    169\u001b[0m \u001b[43m\u001b[49m\u001b[43m)\u001b[49m\n",
      "File \u001b[0;32m~/tt-metal/ttnn/tensor.py:165\u001b[0m, in \u001b[0;36mto_device.<locals>.impl\u001b[0;34m(tensor, device, memory_config)\u001b[0m\n\u001b[1;32m    163\u001b[0m \u001b[38;5;28;01mdef\u001b[39;00m \u001b[38;5;21mimpl\u001b[39m(tensor, device, \u001b[38;5;241m*\u001b[39m, memory_config):\n\u001b[1;32m    164\u001b[0m     ttl_tensor \u001b[38;5;241m=\u001b[39m tensor\u001b[38;5;241m.\u001b[39m_tensor\n\u001b[0;32m--> 165\u001b[0m     \u001b[38;5;28;01mreturn\u001b[39;00m Tensor(\u001b[43mttl_tensor\u001b[49m\u001b[38;5;241;43m.\u001b[39;49m\u001b[43mto\u001b[49m\u001b[43m(\u001b[49m\u001b[43mdevice\u001b[49m\u001b[43m,\u001b[49m\u001b[43m \u001b[49m\u001b[43mmemory_config\u001b[49m\u001b[43m)\u001b[49m)\n",
      "\u001b[0;31mRuntimeError\u001b[0m: TT_FATAL @ tt_metal/impl/buffers/buffer.cpp:22: page_size % sizeof(uint32_t) == 0\ninfo:\nPage size must be divisible by sizeof(uint32_t) because buffers hold uint32_t values\nbacktrace:\n --- tt::tt_metal::Buffer::Buffer(tt::tt_metal::Device*, unsigned long, unsigned long, tt::tt_metal::BufferType)\n --- tt::tt_metal::tensor_impl::detail::allocate_interleaved_buffer_on_device(unsigned int, tt::tt_metal::Device*, tt::tt_metal::Shape const&, tt::tt_metal::DataType, tt::tt_metal::Layout, tt::tt_metal::MemoryConfig const&)\n --- tt::tt_metal::tensor_impl::allocate_buffer_on_device(unsigned int, tt::tt_metal::Device*, tt::tt_metal::Shape const&, tt::tt_metal::DataType, tt::tt_metal::Layout, tt::tt_metal::MemoryConfig const&)\n --- /home/dvartanians/tt-metal/tt_eager/tt_lib/_C.so(+0x50f507) [0x7fb557204507]\n --- /home/dvartanians/tt-metal/tt_eager/tt_lib/_C.so(_ZNSt8__detail9__variant17__gen_vtable_implILb1ENS0_12_Multi_arrayIPFSt10shared_ptrIN2tt8tt_metal6BufferEEOZNS5_11tensor_impl16to_device_bufferI8bfloat16EES7_RKSt7variantIJNS5_12OwnedStorageENS5_13DeviceStorageENS5_15BorrowedStorageEEEPNS5_6DeviceERKNS5_5ShapeENS5_8DataTypeENS5_6LayoutERKNS5_12MemoryConfigEEUlOT_E_SH_EJEEESt5tupleIJSH_EESt16integer_sequenceImJLm2EEEE14__visit_invokeESV_SH_+0x22) [0x7fb557204bf2]\n --- /home/dvartanians/tt-metal/tt_eager/tt_lib/_C.so(+0x50c706) [0x7fb557201706]\n --- std::_Function_handler<tt::tt_metal::Tensor (tt::tt_metal::Tensor const&, tt::tt_metal::Device*, tt::tt_metal::MemoryConfig const&), tt::tt_metal::Tensor (*)(tt::tt_metal::Tensor const&, tt::tt_metal::Device*, tt::tt_metal::MemoryConfig const&)>::_M_invoke(std::_Any_data const&, tt::tt_metal::Tensor const&, tt::tt_metal::Device*&&, tt::tt_metal::MemoryConfig const&)\n --- tt::tt_metal::tensor_impl::to_device_wrapper(tt::tt_metal::Tensor const&, tt::tt_metal::Device*, tt::tt_metal::MemoryConfig const&)\n --- tt::tt_metal::Tensor::to(tt::tt_metal::Device*, tt::tt_metal::MemoryConfig const&) const\n --- /home/dvartanians/tt-metal/tt_eager/tt_lib/_C.so(+0x1c89ab) [0x7fb556ebd9ab]\n --- /home/dvartanians/tt-metal/tt_eager/tt_lib/_C.so(+0x141516) [0x7fb556e36516]\n --- /home/dvartanians/tt-metal/build/python_env/bin/python3.8(PyCFunction_Call+0x59) [0x5d5499]\n --- /home/dvartanians/tt-metal/build/python_env/bin/python3.8(_PyObject_MakeTpCall+0x296) [0x5d6066]\n --- /home/dvartanians/tt-metal/build/python_env/bin/python3.8() [0x4e22b3]\n --- /home/dvartanians/tt-metal/build/python_env/bin/python3.8(_PyEval_EvalFrameDefault+0x5d69) [0x54c8a9]\n --- /home/dvartanians/tt-metal/build/python_env/bin/python3.8(_PyEval_EvalCodeWithName+0x26a) [0x54552a]\n --- /home/dvartanians/tt-metal/build/python_env/bin/python3.8(_PyFunction_Vectorcall+0x393) [0x5d5a23]\n --- /home/dvartanians/tt-metal/build/python_env/bin/python3.8(PyObject_Call+0x62) [0x5d4c12]\n --- /home/dvartanians/tt-metal/tt_eager/tt_lib/_C.so(+0x1ddd00) [0x7fb556ed2d00]\n --- /home/dvartanians/tt-metal/tt_eager/tt_lib/_C.so(+0x1d2c9c) [0x7fb556ec7c9c]\n --- /home/dvartanians/tt-metal/tt_eager/tt_lib/_C.so(+0x1d554d) [0x7fb556eca54d]\n --- /home/dvartanians/tt-metal/tt_eager/tt_lib/_C.so(+0x141516) [0x7fb556e36516]\n --- /home/dvartanians/tt-metal/build/python_env/bin/python3.8(PyCFunction_Call+0x59) [0x5d5499]\n --- /home/dvartanians/tt-metal/build/python_env/bin/python3.8(_PyObject_MakeTpCall+0x296) [0x5d6066]\n --- /home/dvartanians/tt-metal/build/python_env/bin/python3.8(_PyEval_EvalFrameDefault+0x690a) [0x54d44a]\n --- /home/dvartanians/tt-metal/build/python_env/bin/python3.8(_PyEval_EvalCodeWithName+0x26a) [0x54552a]\n --- /home/dvartanians/tt-metal/build/python_env/bin/python3.8(_PyFunction_Vectorcall+0x393) [0x5d5a23]\n --- /home/dvartanians/tt-metal/build/python_env/bin/python3.8(_PyEval_EvalFrameDefault+0x725) [0x547265]\n --- /home/dvartanians/tt-metal/build/python_env/bin/python3.8(_PyFunction_Vectorcall+0x1b6) [0x5d5846]\n --- /home/dvartanians/tt-metal/build/python_env/bin/python3.8(_PyEval_EvalFrameDefault+0x725) [0x547265]\n --- /home/dvartanians/tt-metal/build/python_env/bin/python3.8(_PyEval_EvalCodeWithName+0x26a) [0x54552a]\n --- /home/dvartanians/tt-metal/build/python_env/bin/python3.8(_PyFunction_Vectorcall+0x393) [0x5d5a23]\n --- /home/dvartanians/tt-metal/build/python_env/bin/python3.8() [0x551a88]\n --- /home/dvartanians/tt-metal/build/python_env/bin/python3.8(_PyObject_FastCall_Prepend+0x55) [0x5d49d5]\n --- /home/dvartanians/tt-metal/build/python_env/bin/python3.8() [0x5dd83f]\n --- /home/dvartanians/tt-metal/build/python_env/bin/python3.8() [0x4ab2c0]\n --- /home/dvartanians/tt-metal/build/python_env/bin/python3.8() [0x4e59c7]\n --- /home/dvartanians/tt-metal/build/python_env/bin/python3.8() [0x5ff77a]\n --- /home/dvartanians/tt-metal/build/python_env/bin/python3.8(_PyEval_EvalFrameDefault+0x53ac) [0x54beec]\n --- /home/dvartanians/tt-metal/build/python_env/bin/python3.8(_PyEval_EvalCodeWithName+0x26a) [0x54552a]\n --- /home/dvartanians/tt-metal/build/python_env/bin/python3.8(PyEval_EvalCode+0x27) [0x684327]\n --- /home/dvartanians/tt-metal/build/python_env/bin/python3.8() [0x5e1514]\n --- /home/dvartanians/tt-metal/build/python_env/bin/python3.8() [0x5a27d0]\n --- /home/dvartanians/tt-metal/build/python_env/bin/python3.8(_PyEval_EvalFrameDefault+0x725) [0x547265]\n --- /home/dvartanians/tt-metal/build/python_env/bin/python3.8() [0x4d71f8]\n --- /home/dvartanians/tt-metal/build/python_env/bin/python3.8(_PyEval_EvalFrameDefault+0x212b) [0x548c6b]\n --- /home/dvartanians/tt-metal/build/python_env/bin/python3.8() [0x4d71f8]\n --- /home/dvartanians/tt-metal/build/python_env/bin/python3.8(_PyEval_EvalFrameDefault+0x212b) [0x548c6b]\n --- /home/dvartanians/tt-metal/build/python_env/bin/python3.8() [0x4d71f8]\n --- /home/dvartanians/tt-metal/build/python_env/bin/python3.8() [0x4daf8a]\n --- /home/dvartanians/tt-metal/build/python_env/bin/python3.8(_PyEval_EvalFrameDefault+0x907) [0x547447]\n --- /home/dvartanians/tt-metal/build/python_env/bin/python3.8(_PyFunction_Vectorcall+0x1b6) [0x5d5846]\n --- /home/dvartanians/tt-metal/build/python_env/bin/python3.8(_PyEval_EvalFrameDefault+0x725) [0x547265]\n --- /home/dvartanians/tt-metal/build/python_env/bin/python3.8(_PyFunction_Vectorcall+0x1b6) [0x5d5846]\n --- /home/dvartanians/tt-metal/build/python_env/bin/python3.8(_PyEval_EvalFrameDefault+0x907) [0x547447]\n --- /home/dvartanians/tt-metal/build/python_env/bin/python3.8(_PyEval_EvalCodeWithName+0x26a) [0x54552a]\n --- /home/dvartanians/tt-metal/build/python_env/bin/python3.8(_PyFunction_Vectorcall+0x393) [0x5d5a23]\n --- /home/dvartanians/tt-metal/build/python_env/bin/python3.8() [0x4e1b5c]\n --- /home/dvartanians/tt-metal/build/python_env/bin/python3.8(PyObject_Call+0x62) [0x5d4c12]\n --- /home/dvartanians/tt-metal/build/python_env/bin/python3.8(_PyEval_EvalFrameDefault+0x1f26) [0x548a66]\n --- /home/dvartanians/tt-metal/build/python_env/bin/python3.8(_PyEval_EvalCodeWithName+0x26a) [0x54552a]\n --- /home/dvartanians/tt-metal/build/python_env/bin/python3.8() [0x4e1bd0]\n --- /home/dvartanians/tt-metal/build/python_env/bin/python3.8(_PyEval_EvalFrameDefault+0x1876) [0x5483b6]\n --- /home/dvartanians/tt-metal/build/python_env/bin/python3.8() [0x4d71f8]\n --- /home/dvartanians/tt-metal/build/python_env/bin/python3.8(_PyEval_EvalFrameDefault+0x212b) [0x548c6b]\n --- /home/dvartanians/tt-metal/build/python_env/bin/python3.8() [0x4d71f8]\n --- /home/dvartanians/tt-metal/build/python_env/bin/python3.8(_PyEval_EvalFrameDefault+0x212b) [0x548c6b]\n --- /home/dvartanians/tt-metal/build/python_env/bin/python3.8() [0x4d71f8]\n --- /home/dvartanians/tt-metal/build/python_env/bin/python3.8(_PyEval_EvalFrameDefault+0x212b) [0x548c6b]\n --- /home/dvartanians/tt-metal/build/python_env/bin/python3.8() [0x4d71f8]\n --- /home/dvartanians/tt-metal/build/python_env/bin/python3.8(_PyEval_EvalFrameDefault+0x212b) [0x548c6b]\n --- /home/dvartanians/tt-metal/build/python_env/bin/python3.8() [0x4d71f8]\n --- /usr/lib/python3.8/lib-dynload/_asyncio.cpython-38-x86_64-linux-gnu.so(+0x7ef9) [0x7fb5c9df9ef9]\n --- /usr/lib/python3.8/lib-dynload/_asyncio.cpython-38-x86_64-linux-gnu.so(+0x9083) [0x7fb5c9dfb083]\n --- /home/dvartanians/tt-metal/build/python_env/bin/python3.8(_PyObject_MakeTpCall+0x296) [0x5d6066]\n --- /home/dvartanians/tt-metal/build/python_env/bin/python3.8() [0x5dfc0b]\n --- /home/dvartanians/tt-metal/build/python_env/bin/python3.8() [0x5a26b7]\n --- /home/dvartanians/tt-metal/build/python_env/bin/python3.8(PyVectorcall_Call+0x58) [0x5d51d8]\n --- /home/dvartanians/tt-metal/build/python_env/bin/python3.8(_PyEval_EvalFrameDefault+0x6eb0) [0x54d9f0]\n --- /home/dvartanians/tt-metal/build/python_env/bin/python3.8(_PyFunction_Vectorcall+0x1b6) [0x5d5846]\n --- /home/dvartanians/tt-metal/build/python_env/bin/python3.8(_PyEval_EvalFrameDefault+0x907) [0x547447]\n --- /home/dvartanians/tt-metal/build/python_env/bin/python3.8(_PyFunction_Vectorcall+0x1b6) [0x5d5846]\n --- /home/dvartanians/tt-metal/build/python_env/bin/python3.8(_PyEval_EvalFrameDefault+0x907) [0x547447]\n --- /home/dvartanians/tt-metal/build/python_env/bin/python3.8(_PyFunction_Vectorcall+0x1b6) [0x5d5846]\n --- /home/dvartanians/tt-metal/build/python_env/bin/python3.8(_PyEval_EvalFrameDefault+0x907) [0x547447]\n --- /home/dvartanians/tt-metal/build/python_env/bin/python3.8(_PyFunction_Vectorcall+0x1b6) [0x5d5846]\n --- /home/dvartanians/tt-metal/build/python_env/bin/python3.8(_PyEval_EvalFrameDefault+0x907) [0x547447]\n --- /home/dvartanians/tt-metal/build/python_env/bin/python3.8(_PyFunction_Vectorcall+0x1b6) [0x5d5846]\n --- /home/dvartanians/tt-metal/build/python_env/bin/python3.8(_PyEval_EvalFrameDefault+0x907) [0x547447]\n --- /home/dvartanians/tt-metal/build/python_env/bin/python3.8(_PyEval_EvalCodeWithName+0x26a) [0x54552a]\n --- /home/dvartanians/tt-metal/build/python_env/bin/python3.8() [0x4e1bd0]\n --- /home/dvartanians/tt-metal/build/python_env/bin/python3.8(_PyEval_EvalFrameDefault+0x5d69) [0x54c8a9]\n --- /home/dvartanians/tt-metal/build/python_env/bin/python3.8(_PyEval_EvalCodeWithName+0x26a) [0x54552a]\n --- /home/dvartanians/tt-metal/build/python_env/bin/python3.8(PyEval_EvalCode+0x27) [0x684327]\n --- /home/dvartanians/tt-metal/build/python_env/bin/python3.8() [0x5e1514]\n --- /home/dvartanians/tt-metal/build/python_env/bin/python3.8() [0x5a27d0]\n --- /home/dvartanians/tt-metal/build/python_env/bin/python3.8(_PyEval_EvalFrameDefault+0x725) [0x547265]\n"
     ]
    }
   ],
   "source": [
    "#ttnn.matmul\n",
    "# vector x vector\n",
    "tensor1 = ttnn.to_device(ttnn.from_torch(torch.randn((32), dtype=torch.bfloat16)), device)\n",
    "tensor2 = ttnn.to_device(ttnn.from_torch(torch.randn((32), dtype=torch.bfloat16)), device)\n",
    "output = tensor1 @ tensor2\n",
    "print(output.shape)"
   ]
  },
  {
   "cell_type": "code",
   "execution_count": 8,
   "id": "e5b6af31-bda8-46db-b4d3-16d5f4fbfe0b",
   "metadata": {},
   "outputs": [
    {
     "name": "stdout",
     "output_type": "stream",
     "text": [
      "\u001b[38;2;000;128;000m                 Always\u001b[0m | \u001b[1m\u001b[38;2;255;000;000mFATAL   \u001b[0m | Page size must be divisible by sizeof(uint32_t) because buffers hold uint32_t values\n"
     ]
    },
    {
     "ename": "RuntimeError",
     "evalue": "TT_FATAL @ tt_metal/impl/buffers/buffer.cpp:22: page_size % sizeof(uint32_t) == 0\ninfo:\nPage size must be divisible by sizeof(uint32_t) because buffers hold uint32_t values\nbacktrace:\n --- tt::tt_metal::Buffer::Buffer(tt::tt_metal::Device*, unsigned long, unsigned long, tt::tt_metal::BufferType)\n --- tt::tt_metal::tensor_impl::detail::allocate_interleaved_buffer_on_device(unsigned int, tt::tt_metal::Device*, tt::tt_metal::Shape const&, tt::tt_metal::DataType, tt::tt_metal::Layout, tt::tt_metal::MemoryConfig const&)\n --- tt::tt_metal::tensor_impl::allocate_buffer_on_device(unsigned int, tt::tt_metal::Device*, tt::tt_metal::Shape const&, tt::tt_metal::DataType, tt::tt_metal::Layout, tt::tt_metal::MemoryConfig const&)\n --- /home/dvartanians/tt-metal/tt_eager/tt_lib/_C.so(+0x50f507) [0x7fb557204507]\n --- /home/dvartanians/tt-metal/tt_eager/tt_lib/_C.so(_ZNSt8__detail9__variant17__gen_vtable_implILb1ENS0_12_Multi_arrayIPFSt10shared_ptrIN2tt8tt_metal6BufferEEOZNS5_11tensor_impl16to_device_bufferI8bfloat16EES7_RKSt7variantIJNS5_12OwnedStorageENS5_13DeviceStorageENS5_15BorrowedStorageEEEPNS5_6DeviceERKNS5_5ShapeENS5_8DataTypeENS5_6LayoutERKNS5_12MemoryConfigEEUlOT_E_SH_EJEEESt5tupleIJSH_EESt16integer_sequenceImJLm2EEEE14__visit_invokeESV_SH_+0x22) [0x7fb557204bf2]\n --- /home/dvartanians/tt-metal/tt_eager/tt_lib/_C.so(+0x50c706) [0x7fb557201706]\n --- std::_Function_handler<tt::tt_metal::Tensor (tt::tt_metal::Tensor const&, tt::tt_metal::Device*, tt::tt_metal::MemoryConfig const&), tt::tt_metal::Tensor (*)(tt::tt_metal::Tensor const&, tt::tt_metal::Device*, tt::tt_metal::MemoryConfig const&)>::_M_invoke(std::_Any_data const&, tt::tt_metal::Tensor const&, tt::tt_metal::Device*&&, tt::tt_metal::MemoryConfig const&)\n --- tt::tt_metal::tensor_impl::to_device_wrapper(tt::tt_metal::Tensor const&, tt::tt_metal::Device*, tt::tt_metal::MemoryConfig const&)\n --- tt::tt_metal::Tensor::to(tt::tt_metal::Device*, tt::tt_metal::MemoryConfig const&) const\n --- /home/dvartanians/tt-metal/tt_eager/tt_lib/_C.so(+0x1c89ab) [0x7fb556ebd9ab]\n --- /home/dvartanians/tt-metal/tt_eager/tt_lib/_C.so(+0x141516) [0x7fb556e36516]\n --- /home/dvartanians/tt-metal/build/python_env/bin/python3.8(PyCFunction_Call+0x59) [0x5d5499]\n --- /home/dvartanians/tt-metal/build/python_env/bin/python3.8(_PyObject_MakeTpCall+0x296) [0x5d6066]\n --- /home/dvartanians/tt-metal/build/python_env/bin/python3.8() [0x4e22b3]\n --- /home/dvartanians/tt-metal/build/python_env/bin/python3.8(_PyEval_EvalFrameDefault+0x5d69) [0x54c8a9]\n --- /home/dvartanians/tt-metal/build/python_env/bin/python3.8(_PyEval_EvalCodeWithName+0x26a) [0x54552a]\n --- /home/dvartanians/tt-metal/build/python_env/bin/python3.8(_PyFunction_Vectorcall+0x393) [0x5d5a23]\n --- /home/dvartanians/tt-metal/build/python_env/bin/python3.8(PyObject_Call+0x62) [0x5d4c12]\n --- /home/dvartanians/tt-metal/tt_eager/tt_lib/_C.so(+0x1ddd00) [0x7fb556ed2d00]\n --- /home/dvartanians/tt-metal/tt_eager/tt_lib/_C.so(+0x1d2c9c) [0x7fb556ec7c9c]\n --- /home/dvartanians/tt-metal/tt_eager/tt_lib/_C.so(+0x1d554d) [0x7fb556eca54d]\n --- /home/dvartanians/tt-metal/tt_eager/tt_lib/_C.so(+0x141516) [0x7fb556e36516]\n --- /home/dvartanians/tt-metal/build/python_env/bin/python3.8(PyCFunction_Call+0x59) [0x5d5499]\n --- /home/dvartanians/tt-metal/build/python_env/bin/python3.8(_PyObject_MakeTpCall+0x296) [0x5d6066]\n --- /home/dvartanians/tt-metal/build/python_env/bin/python3.8(_PyEval_EvalFrameDefault+0x690a) [0x54d44a]\n --- /home/dvartanians/tt-metal/build/python_env/bin/python3.8(_PyEval_EvalCodeWithName+0x26a) [0x54552a]\n --- /home/dvartanians/tt-metal/build/python_env/bin/python3.8(_PyFunction_Vectorcall+0x393) [0x5d5a23]\n --- /home/dvartanians/tt-metal/build/python_env/bin/python3.8(_PyEval_EvalFrameDefault+0x725) [0x547265]\n --- /home/dvartanians/tt-metal/build/python_env/bin/python3.8(_PyFunction_Vectorcall+0x1b6) [0x5d5846]\n --- /home/dvartanians/tt-metal/build/python_env/bin/python3.8(_PyEval_EvalFrameDefault+0x725) [0x547265]\n --- /home/dvartanians/tt-metal/build/python_env/bin/python3.8(_PyEval_EvalCodeWithName+0x26a) [0x54552a]\n --- /home/dvartanians/tt-metal/build/python_env/bin/python3.8(_PyFunction_Vectorcall+0x393) [0x5d5a23]\n --- /home/dvartanians/tt-metal/build/python_env/bin/python3.8() [0x551a88]\n --- /home/dvartanians/tt-metal/build/python_env/bin/python3.8(_PyObject_FastCall_Prepend+0x55) [0x5d49d5]\n --- /home/dvartanians/tt-metal/build/python_env/bin/python3.8() [0x5dd83f]\n --- /home/dvartanians/tt-metal/build/python_env/bin/python3.8() [0x4ab2c0]\n --- /home/dvartanians/tt-metal/build/python_env/bin/python3.8() [0x4e59c7]\n --- /home/dvartanians/tt-metal/build/python_env/bin/python3.8() [0x5ff77a]\n --- /home/dvartanians/tt-metal/build/python_env/bin/python3.8(_PyEval_EvalFrameDefault+0x53ac) [0x54beec]\n --- /home/dvartanians/tt-metal/build/python_env/bin/python3.8(_PyEval_EvalCodeWithName+0x26a) [0x54552a]\n --- /home/dvartanians/tt-metal/build/python_env/bin/python3.8(PyEval_EvalCode+0x27) [0x684327]\n --- /home/dvartanians/tt-metal/build/python_env/bin/python3.8() [0x5e1514]\n --- /home/dvartanians/tt-metal/build/python_env/bin/python3.8() [0x5a27d0]\n --- /home/dvartanians/tt-metal/build/python_env/bin/python3.8(_PyEval_EvalFrameDefault+0x725) [0x547265]\n --- /home/dvartanians/tt-metal/build/python_env/bin/python3.8() [0x4d71f8]\n --- /home/dvartanians/tt-metal/build/python_env/bin/python3.8(_PyEval_EvalFrameDefault+0x212b) [0x548c6b]\n --- /home/dvartanians/tt-metal/build/python_env/bin/python3.8() [0x4d71f8]\n --- /home/dvartanians/tt-metal/build/python_env/bin/python3.8(_PyEval_EvalFrameDefault+0x212b) [0x548c6b]\n --- /home/dvartanians/tt-metal/build/python_env/bin/python3.8() [0x4d71f8]\n --- /home/dvartanians/tt-metal/build/python_env/bin/python3.8() [0x4daf8a]\n --- /home/dvartanians/tt-metal/build/python_env/bin/python3.8(_PyEval_EvalFrameDefault+0x907) [0x547447]\n --- /home/dvartanians/tt-metal/build/python_env/bin/python3.8(_PyFunction_Vectorcall+0x1b6) [0x5d5846]\n --- /home/dvartanians/tt-metal/build/python_env/bin/python3.8(_PyEval_EvalFrameDefault+0x725) [0x547265]\n --- /home/dvartanians/tt-metal/build/python_env/bin/python3.8(_PyFunction_Vectorcall+0x1b6) [0x5d5846]\n --- /home/dvartanians/tt-metal/build/python_env/bin/python3.8(_PyEval_EvalFrameDefault+0x907) [0x547447]\n --- /home/dvartanians/tt-metal/build/python_env/bin/python3.8(_PyEval_EvalCodeWithName+0x26a) [0x54552a]\n --- /home/dvartanians/tt-metal/build/python_env/bin/python3.8(_PyFunction_Vectorcall+0x393) [0x5d5a23]\n --- /home/dvartanians/tt-metal/build/python_env/bin/python3.8() [0x4e1b5c]\n --- /home/dvartanians/tt-metal/build/python_env/bin/python3.8(PyObject_Call+0x62) [0x5d4c12]\n --- /home/dvartanians/tt-metal/build/python_env/bin/python3.8(_PyEval_EvalFrameDefault+0x1f26) [0x548a66]\n --- /home/dvartanians/tt-metal/build/python_env/bin/python3.8(_PyEval_EvalCodeWithName+0x26a) [0x54552a]\n --- /home/dvartanians/tt-metal/build/python_env/bin/python3.8() [0x4e1bd0]\n --- /home/dvartanians/tt-metal/build/python_env/bin/python3.8(_PyEval_EvalFrameDefault+0x1876) [0x5483b6]\n --- /home/dvartanians/tt-metal/build/python_env/bin/python3.8() [0x4d71f8]\n --- /home/dvartanians/tt-metal/build/python_env/bin/python3.8(_PyEval_EvalFrameDefault+0x212b) [0x548c6b]\n --- /home/dvartanians/tt-metal/build/python_env/bin/python3.8() [0x4d71f8]\n --- /home/dvartanians/tt-metal/build/python_env/bin/python3.8(_PyEval_EvalFrameDefault+0x212b) [0x548c6b]\n --- /home/dvartanians/tt-metal/build/python_env/bin/python3.8() [0x4d71f8]\n --- /home/dvartanians/tt-metal/build/python_env/bin/python3.8(_PyEval_EvalFrameDefault+0x212b) [0x548c6b]\n --- /home/dvartanians/tt-metal/build/python_env/bin/python3.8() [0x4d71f8]\n --- /home/dvartanians/tt-metal/build/python_env/bin/python3.8(_PyEval_EvalFrameDefault+0x212b) [0x548c6b]\n --- /home/dvartanians/tt-metal/build/python_env/bin/python3.8() [0x4d71f8]\n --- /usr/lib/python3.8/lib-dynload/_asyncio.cpython-38-x86_64-linux-gnu.so(+0x7ef9) [0x7fb5c9df9ef9]\n --- /usr/lib/python3.8/lib-dynload/_asyncio.cpython-38-x86_64-linux-gnu.so(+0x9083) [0x7fb5c9dfb083]\n --- /home/dvartanians/tt-metal/build/python_env/bin/python3.8(_PyObject_MakeTpCall+0x296) [0x5d6066]\n --- /home/dvartanians/tt-metal/build/python_env/bin/python3.8() [0x5dfc0b]\n --- /home/dvartanians/tt-metal/build/python_env/bin/python3.8() [0x5a26b7]\n --- /home/dvartanians/tt-metal/build/python_env/bin/python3.8(PyVectorcall_Call+0x58) [0x5d51d8]\n --- /home/dvartanians/tt-metal/build/python_env/bin/python3.8(_PyEval_EvalFrameDefault+0x6eb0) [0x54d9f0]\n --- /home/dvartanians/tt-metal/build/python_env/bin/python3.8(_PyFunction_Vectorcall+0x1b6) [0x5d5846]\n --- /home/dvartanians/tt-metal/build/python_env/bin/python3.8(_PyEval_EvalFrameDefault+0x907) [0x547447]\n --- /home/dvartanians/tt-metal/build/python_env/bin/python3.8(_PyFunction_Vectorcall+0x1b6) [0x5d5846]\n --- /home/dvartanians/tt-metal/build/python_env/bin/python3.8(_PyEval_EvalFrameDefault+0x907) [0x547447]\n --- /home/dvartanians/tt-metal/build/python_env/bin/python3.8(_PyFunction_Vectorcall+0x1b6) [0x5d5846]\n --- /home/dvartanians/tt-metal/build/python_env/bin/python3.8(_PyEval_EvalFrameDefault+0x907) [0x547447]\n --- /home/dvartanians/tt-metal/build/python_env/bin/python3.8(_PyFunction_Vectorcall+0x1b6) [0x5d5846]\n --- /home/dvartanians/tt-metal/build/python_env/bin/python3.8(_PyEval_EvalFrameDefault+0x907) [0x547447]\n --- /home/dvartanians/tt-metal/build/python_env/bin/python3.8(_PyFunction_Vectorcall+0x1b6) [0x5d5846]\n --- /home/dvartanians/tt-metal/build/python_env/bin/python3.8(_PyEval_EvalFrameDefault+0x907) [0x547447]\n --- /home/dvartanians/tt-metal/build/python_env/bin/python3.8(_PyEval_EvalCodeWithName+0x26a) [0x54552a]\n --- /home/dvartanians/tt-metal/build/python_env/bin/python3.8() [0x4e1bd0]\n --- /home/dvartanians/tt-metal/build/python_env/bin/python3.8(_PyEval_EvalFrameDefault+0x5d69) [0x54c8a9]\n --- /home/dvartanians/tt-metal/build/python_env/bin/python3.8(_PyEval_EvalCodeWithName+0x26a) [0x54552a]\n --- /home/dvartanians/tt-metal/build/python_env/bin/python3.8(PyEval_EvalCode+0x27) [0x684327]\n --- /home/dvartanians/tt-metal/build/python_env/bin/python3.8() [0x5e1514]\n --- /home/dvartanians/tt-metal/build/python_env/bin/python3.8() [0x5a27d0]\n --- /home/dvartanians/tt-metal/build/python_env/bin/python3.8(_PyEval_EvalFrameDefault+0x725) [0x547265]\n",
     "output_type": "error",
     "traceback": [
      "\u001b[0;31m---------------------------------------------------------------------------\u001b[0m",
      "\u001b[0;31mRuntimeError\u001b[0m                              Traceback (most recent call last)",
      "Cell \u001b[0;32mIn[8], line 4\u001b[0m\n\u001b[1;32m      2\u001b[0m tensor1 \u001b[38;5;241m=\u001b[39m ttnn\u001b[38;5;241m.\u001b[39mto_device(ttnn\u001b[38;5;241m.\u001b[39mfrom_torch(torch\u001b[38;5;241m.\u001b[39mrandn((\u001b[38;5;241m64\u001b[39m, \u001b[38;5;241m32\u001b[39m), dtype\u001b[38;5;241m=\u001b[39mtorch\u001b[38;5;241m.\u001b[39mbfloat16)), device)\n\u001b[1;32m      3\u001b[0m tensor2 \u001b[38;5;241m=\u001b[39m ttnn\u001b[38;5;241m.\u001b[39mto_device(ttnn\u001b[38;5;241m.\u001b[39mfrom_torch(torch\u001b[38;5;241m.\u001b[39mrandn((\u001b[38;5;241m32\u001b[39m), dtype\u001b[38;5;241m=\u001b[39mtorch\u001b[38;5;241m.\u001b[39mbfloat16)), device)\n\u001b[0;32m----> 4\u001b[0m output \u001b[38;5;241m=\u001b[39m \u001b[43mtensor1\u001b[49m\u001b[43m \u001b[49m\u001b[38;5;241;43m@\u001b[39;49m\u001b[43m \u001b[49m\u001b[43mtensor2\u001b[49m\n\u001b[1;32m      5\u001b[0m \u001b[38;5;28mprint\u001b[39m(output\u001b[38;5;241m.\u001b[39mshape)\n",
      "File \u001b[0;32m~/tt-metal/ttnn/core.py:214\u001b[0m, in \u001b[0;36mmatmul\u001b[0;34m(input_tensor_a, input_tensor_b, memory_config, dtype, core_grid)\u001b[0m\n\u001b[1;32m    211\u001b[0m     \u001b[38;5;241m*\u001b[39mbatch_shape_b, height_b, width_b \u001b[38;5;241m=\u001b[39m input_shape_b\n\u001b[1;32m    213\u001b[0m input_tensor_a \u001b[38;5;241m=\u001b[39m reshape(input_tensor_a, \u001b[38;5;28mtuple\u001b[39m(batch_shape_a \u001b[38;5;241m+\u001b[39m [height_a, width_a]))\n\u001b[0;32m--> 214\u001b[0m input_tensor_b \u001b[38;5;241m=\u001b[39m \u001b[43mreshape\u001b[49m\u001b[43m(\u001b[49m\u001b[43minput_tensor_b\u001b[49m\u001b[43m,\u001b[49m\u001b[43m \u001b[49m\u001b[38;5;28;43mtuple\u001b[39;49m\u001b[43m(\u001b[49m\u001b[43mbatch_shape_b\u001b[49m\u001b[43m \u001b[49m\u001b[38;5;241;43m+\u001b[39;49m\u001b[43m \u001b[49m\u001b[43m[\u001b[49m\u001b[43mheight_b\u001b[49m\u001b[43m,\u001b[49m\u001b[43m \u001b[49m\u001b[43mwidth_b\u001b[49m\u001b[43m]\u001b[49m\u001b[43m)\u001b[49m\u001b[43m)\u001b[49m\n\u001b[1;32m    216\u001b[0m input_tensor_a \u001b[38;5;241m=\u001b[39m _reshape_to_4D(input_tensor_a)\n\u001b[1;32m    217\u001b[0m input_tensor_b \u001b[38;5;241m=\u001b[39m _reshape_to_4D(input_tensor_b)\n",
      "File \u001b[0;32m~/tt-metal/ttnn/core.py:1028\u001b[0m, in \u001b[0;36mreshape\u001b[0;34m(input_tensor, shape)\u001b[0m\n\u001b[1;32m   1026\u001b[0m     tensor \u001b[38;5;241m=\u001b[39m ttl\u001b[38;5;241m.\u001b[39mtensor\u001b[38;5;241m.\u001b[39mdecorate_external_operation(torch_reshape, function_name\u001b[38;5;241m=\u001b[39m\u001b[38;5;124m\"\u001b[39m\u001b[38;5;124mtorch.reshape\u001b[39m\u001b[38;5;124m\"\u001b[39m)(tensor, shape)\n\u001b[1;32m   1027\u001b[0m     tensor \u001b[38;5;241m=\u001b[39m from_torch(tensor, input_tensor\u001b[38;5;241m.\u001b[39mdtype)\n\u001b[0;32m-> 1028\u001b[0m     tensor \u001b[38;5;241m=\u001b[39m \u001b[43mto_device\u001b[49m\u001b[43m(\u001b[49m\u001b[43mtensor\u001b[49m\u001b[43m,\u001b[49m\u001b[43m \u001b[49m\u001b[43mdevice\u001b[49m\u001b[43m)\u001b[49m\n\u001b[1;32m   1029\u001b[0m \u001b[38;5;28;01melse\u001b[39;00m:\n\u001b[1;32m   1030\u001b[0m     tensor \u001b[38;5;241m=\u001b[39m to_layout(input_tensor, ROW_MAJOR_LAYOUT)\n",
      "File \u001b[0;32m~/tt-metal/ttnn/tensor.py:167\u001b[0m, in \u001b[0;36mto_device\u001b[0;34m(tensor, device, memory_config)\u001b[0m\n\u001b[1;32m    164\u001b[0m     ttl_tensor \u001b[38;5;241m=\u001b[39m tensor\u001b[38;5;241m.\u001b[39m_tensor\n\u001b[1;32m    165\u001b[0m     \u001b[38;5;28;01mreturn\u001b[39;00m Tensor(ttl_tensor\u001b[38;5;241m.\u001b[39mto(device, memory_config))\n\u001b[0;32m--> 167\u001b[0m \u001b[38;5;28;01mreturn\u001b[39;00m \u001b[43mttl\u001b[49m\u001b[38;5;241;43m.\u001b[39;49m\u001b[43mtensor\u001b[49m\u001b[38;5;241;43m.\u001b[39;49m\u001b[43mdecorate_external_operation\u001b[49m\u001b[43m(\u001b[49m\u001b[43mimpl\u001b[49m\u001b[43m,\u001b[49m\u001b[43m \u001b[49m\u001b[43mfunction_name\u001b[49m\u001b[38;5;241;43m=\u001b[39;49m\u001b[38;5;124;43m\"\u001b[39;49m\u001b[38;5;124;43mttnn.to_device\u001b[39;49m\u001b[38;5;124;43m\"\u001b[39;49m\u001b[43m)\u001b[49m\u001b[43m(\u001b[49m\n\u001b[1;32m    168\u001b[0m \u001b[43m    \u001b[49m\u001b[43mtensor\u001b[49m\u001b[43m,\u001b[49m\u001b[43m \u001b[49m\u001b[43mdevice\u001b[49m\u001b[43m,\u001b[49m\u001b[43m \u001b[49m\u001b[43mmemory_config\u001b[49m\u001b[38;5;241;43m=\u001b[39;49m\u001b[43mmemory_config\u001b[49m\n\u001b[1;32m    169\u001b[0m \u001b[43m\u001b[49m\u001b[43m)\u001b[49m\n",
      "File \u001b[0;32m~/tt-metal/ttnn/tensor.py:165\u001b[0m, in \u001b[0;36mto_device.<locals>.impl\u001b[0;34m(tensor, device, memory_config)\u001b[0m\n\u001b[1;32m    163\u001b[0m \u001b[38;5;28;01mdef\u001b[39;00m \u001b[38;5;21mimpl\u001b[39m(tensor, device, \u001b[38;5;241m*\u001b[39m, memory_config):\n\u001b[1;32m    164\u001b[0m     ttl_tensor \u001b[38;5;241m=\u001b[39m tensor\u001b[38;5;241m.\u001b[39m_tensor\n\u001b[0;32m--> 165\u001b[0m     \u001b[38;5;28;01mreturn\u001b[39;00m Tensor(\u001b[43mttl_tensor\u001b[49m\u001b[38;5;241;43m.\u001b[39;49m\u001b[43mto\u001b[49m\u001b[43m(\u001b[49m\u001b[43mdevice\u001b[49m\u001b[43m,\u001b[49m\u001b[43m \u001b[49m\u001b[43mmemory_config\u001b[49m\u001b[43m)\u001b[49m)\n",
      "\u001b[0;31mRuntimeError\u001b[0m: TT_FATAL @ tt_metal/impl/buffers/buffer.cpp:22: page_size % sizeof(uint32_t) == 0\ninfo:\nPage size must be divisible by sizeof(uint32_t) because buffers hold uint32_t values\nbacktrace:\n --- tt::tt_metal::Buffer::Buffer(tt::tt_metal::Device*, unsigned long, unsigned long, tt::tt_metal::BufferType)\n --- tt::tt_metal::tensor_impl::detail::allocate_interleaved_buffer_on_device(unsigned int, tt::tt_metal::Device*, tt::tt_metal::Shape const&, tt::tt_metal::DataType, tt::tt_metal::Layout, tt::tt_metal::MemoryConfig const&)\n --- tt::tt_metal::tensor_impl::allocate_buffer_on_device(unsigned int, tt::tt_metal::Device*, tt::tt_metal::Shape const&, tt::tt_metal::DataType, tt::tt_metal::Layout, tt::tt_metal::MemoryConfig const&)\n --- /home/dvartanians/tt-metal/tt_eager/tt_lib/_C.so(+0x50f507) [0x7fb557204507]\n --- /home/dvartanians/tt-metal/tt_eager/tt_lib/_C.so(_ZNSt8__detail9__variant17__gen_vtable_implILb1ENS0_12_Multi_arrayIPFSt10shared_ptrIN2tt8tt_metal6BufferEEOZNS5_11tensor_impl16to_device_bufferI8bfloat16EES7_RKSt7variantIJNS5_12OwnedStorageENS5_13DeviceStorageENS5_15BorrowedStorageEEEPNS5_6DeviceERKNS5_5ShapeENS5_8DataTypeENS5_6LayoutERKNS5_12MemoryConfigEEUlOT_E_SH_EJEEESt5tupleIJSH_EESt16integer_sequenceImJLm2EEEE14__visit_invokeESV_SH_+0x22) [0x7fb557204bf2]\n --- /home/dvartanians/tt-metal/tt_eager/tt_lib/_C.so(+0x50c706) [0x7fb557201706]\n --- std::_Function_handler<tt::tt_metal::Tensor (tt::tt_metal::Tensor const&, tt::tt_metal::Device*, tt::tt_metal::MemoryConfig const&), tt::tt_metal::Tensor (*)(tt::tt_metal::Tensor const&, tt::tt_metal::Device*, tt::tt_metal::MemoryConfig const&)>::_M_invoke(std::_Any_data const&, tt::tt_metal::Tensor const&, tt::tt_metal::Device*&&, tt::tt_metal::MemoryConfig const&)\n --- tt::tt_metal::tensor_impl::to_device_wrapper(tt::tt_metal::Tensor const&, tt::tt_metal::Device*, tt::tt_metal::MemoryConfig const&)\n --- tt::tt_metal::Tensor::to(tt::tt_metal::Device*, tt::tt_metal::MemoryConfig const&) const\n --- /home/dvartanians/tt-metal/tt_eager/tt_lib/_C.so(+0x1c89ab) [0x7fb556ebd9ab]\n --- /home/dvartanians/tt-metal/tt_eager/tt_lib/_C.so(+0x141516) [0x7fb556e36516]\n --- /home/dvartanians/tt-metal/build/python_env/bin/python3.8(PyCFunction_Call+0x59) [0x5d5499]\n --- /home/dvartanians/tt-metal/build/python_env/bin/python3.8(_PyObject_MakeTpCall+0x296) [0x5d6066]\n --- /home/dvartanians/tt-metal/build/python_env/bin/python3.8() [0x4e22b3]\n --- /home/dvartanians/tt-metal/build/python_env/bin/python3.8(_PyEval_EvalFrameDefault+0x5d69) [0x54c8a9]\n --- /home/dvartanians/tt-metal/build/python_env/bin/python3.8(_PyEval_EvalCodeWithName+0x26a) [0x54552a]\n --- /home/dvartanians/tt-metal/build/python_env/bin/python3.8(_PyFunction_Vectorcall+0x393) [0x5d5a23]\n --- /home/dvartanians/tt-metal/build/python_env/bin/python3.8(PyObject_Call+0x62) [0x5d4c12]\n --- /home/dvartanians/tt-metal/tt_eager/tt_lib/_C.so(+0x1ddd00) [0x7fb556ed2d00]\n --- /home/dvartanians/tt-metal/tt_eager/tt_lib/_C.so(+0x1d2c9c) [0x7fb556ec7c9c]\n --- /home/dvartanians/tt-metal/tt_eager/tt_lib/_C.so(+0x1d554d) [0x7fb556eca54d]\n --- /home/dvartanians/tt-metal/tt_eager/tt_lib/_C.so(+0x141516) [0x7fb556e36516]\n --- /home/dvartanians/tt-metal/build/python_env/bin/python3.8(PyCFunction_Call+0x59) [0x5d5499]\n --- /home/dvartanians/tt-metal/build/python_env/bin/python3.8(_PyObject_MakeTpCall+0x296) [0x5d6066]\n --- /home/dvartanians/tt-metal/build/python_env/bin/python3.8(_PyEval_EvalFrameDefault+0x690a) [0x54d44a]\n --- /home/dvartanians/tt-metal/build/python_env/bin/python3.8(_PyEval_EvalCodeWithName+0x26a) [0x54552a]\n --- /home/dvartanians/tt-metal/build/python_env/bin/python3.8(_PyFunction_Vectorcall+0x393) [0x5d5a23]\n --- /home/dvartanians/tt-metal/build/python_env/bin/python3.8(_PyEval_EvalFrameDefault+0x725) [0x547265]\n --- /home/dvartanians/tt-metal/build/python_env/bin/python3.8(_PyFunction_Vectorcall+0x1b6) [0x5d5846]\n --- /home/dvartanians/tt-metal/build/python_env/bin/python3.8(_PyEval_EvalFrameDefault+0x725) [0x547265]\n --- /home/dvartanians/tt-metal/build/python_env/bin/python3.8(_PyEval_EvalCodeWithName+0x26a) [0x54552a]\n --- /home/dvartanians/tt-metal/build/python_env/bin/python3.8(_PyFunction_Vectorcall+0x393) [0x5d5a23]\n --- /home/dvartanians/tt-metal/build/python_env/bin/python3.8() [0x551a88]\n --- /home/dvartanians/tt-metal/build/python_env/bin/python3.8(_PyObject_FastCall_Prepend+0x55) [0x5d49d5]\n --- /home/dvartanians/tt-metal/build/python_env/bin/python3.8() [0x5dd83f]\n --- /home/dvartanians/tt-metal/build/python_env/bin/python3.8() [0x4ab2c0]\n --- /home/dvartanians/tt-metal/build/python_env/bin/python3.8() [0x4e59c7]\n --- /home/dvartanians/tt-metal/build/python_env/bin/python3.8() [0x5ff77a]\n --- /home/dvartanians/tt-metal/build/python_env/bin/python3.8(_PyEval_EvalFrameDefault+0x53ac) [0x54beec]\n --- /home/dvartanians/tt-metal/build/python_env/bin/python3.8(_PyEval_EvalCodeWithName+0x26a) [0x54552a]\n --- /home/dvartanians/tt-metal/build/python_env/bin/python3.8(PyEval_EvalCode+0x27) [0x684327]\n --- /home/dvartanians/tt-metal/build/python_env/bin/python3.8() [0x5e1514]\n --- /home/dvartanians/tt-metal/build/python_env/bin/python3.8() [0x5a27d0]\n --- /home/dvartanians/tt-metal/build/python_env/bin/python3.8(_PyEval_EvalFrameDefault+0x725) [0x547265]\n --- /home/dvartanians/tt-metal/build/python_env/bin/python3.8() [0x4d71f8]\n --- /home/dvartanians/tt-metal/build/python_env/bin/python3.8(_PyEval_EvalFrameDefault+0x212b) [0x548c6b]\n --- /home/dvartanians/tt-metal/build/python_env/bin/python3.8() [0x4d71f8]\n --- /home/dvartanians/tt-metal/build/python_env/bin/python3.8(_PyEval_EvalFrameDefault+0x212b) [0x548c6b]\n --- /home/dvartanians/tt-metal/build/python_env/bin/python3.8() [0x4d71f8]\n --- /home/dvartanians/tt-metal/build/python_env/bin/python3.8() [0x4daf8a]\n --- /home/dvartanians/tt-metal/build/python_env/bin/python3.8(_PyEval_EvalFrameDefault+0x907) [0x547447]\n --- /home/dvartanians/tt-metal/build/python_env/bin/python3.8(_PyFunction_Vectorcall+0x1b6) [0x5d5846]\n --- /home/dvartanians/tt-metal/build/python_env/bin/python3.8(_PyEval_EvalFrameDefault+0x725) [0x547265]\n --- /home/dvartanians/tt-metal/build/python_env/bin/python3.8(_PyFunction_Vectorcall+0x1b6) [0x5d5846]\n --- /home/dvartanians/tt-metal/build/python_env/bin/python3.8(_PyEval_EvalFrameDefault+0x907) [0x547447]\n --- /home/dvartanians/tt-metal/build/python_env/bin/python3.8(_PyEval_EvalCodeWithName+0x26a) [0x54552a]\n --- /home/dvartanians/tt-metal/build/python_env/bin/python3.8(_PyFunction_Vectorcall+0x393) [0x5d5a23]\n --- /home/dvartanians/tt-metal/build/python_env/bin/python3.8() [0x4e1b5c]\n --- /home/dvartanians/tt-metal/build/python_env/bin/python3.8(PyObject_Call+0x62) [0x5d4c12]\n --- /home/dvartanians/tt-metal/build/python_env/bin/python3.8(_PyEval_EvalFrameDefault+0x1f26) [0x548a66]\n --- /home/dvartanians/tt-metal/build/python_env/bin/python3.8(_PyEval_EvalCodeWithName+0x26a) [0x54552a]\n --- /home/dvartanians/tt-metal/build/python_env/bin/python3.8() [0x4e1bd0]\n --- /home/dvartanians/tt-metal/build/python_env/bin/python3.8(_PyEval_EvalFrameDefault+0x1876) [0x5483b6]\n --- /home/dvartanians/tt-metal/build/python_env/bin/python3.8() [0x4d71f8]\n --- /home/dvartanians/tt-metal/build/python_env/bin/python3.8(_PyEval_EvalFrameDefault+0x212b) [0x548c6b]\n --- /home/dvartanians/tt-metal/build/python_env/bin/python3.8() [0x4d71f8]\n --- /home/dvartanians/tt-metal/build/python_env/bin/python3.8(_PyEval_EvalFrameDefault+0x212b) [0x548c6b]\n --- /home/dvartanians/tt-metal/build/python_env/bin/python3.8() [0x4d71f8]\n --- /home/dvartanians/tt-metal/build/python_env/bin/python3.8(_PyEval_EvalFrameDefault+0x212b) [0x548c6b]\n --- /home/dvartanians/tt-metal/build/python_env/bin/python3.8() [0x4d71f8]\n --- /home/dvartanians/tt-metal/build/python_env/bin/python3.8(_PyEval_EvalFrameDefault+0x212b) [0x548c6b]\n --- /home/dvartanians/tt-metal/build/python_env/bin/python3.8() [0x4d71f8]\n --- /usr/lib/python3.8/lib-dynload/_asyncio.cpython-38-x86_64-linux-gnu.so(+0x7ef9) [0x7fb5c9df9ef9]\n --- /usr/lib/python3.8/lib-dynload/_asyncio.cpython-38-x86_64-linux-gnu.so(+0x9083) [0x7fb5c9dfb083]\n --- /home/dvartanians/tt-metal/build/python_env/bin/python3.8(_PyObject_MakeTpCall+0x296) [0x5d6066]\n --- /home/dvartanians/tt-metal/build/python_env/bin/python3.8() [0x5dfc0b]\n --- /home/dvartanians/tt-metal/build/python_env/bin/python3.8() [0x5a26b7]\n --- /home/dvartanians/tt-metal/build/python_env/bin/python3.8(PyVectorcall_Call+0x58) [0x5d51d8]\n --- /home/dvartanians/tt-metal/build/python_env/bin/python3.8(_PyEval_EvalFrameDefault+0x6eb0) [0x54d9f0]\n --- /home/dvartanians/tt-metal/build/python_env/bin/python3.8(_PyFunction_Vectorcall+0x1b6) [0x5d5846]\n --- /home/dvartanians/tt-metal/build/python_env/bin/python3.8(_PyEval_EvalFrameDefault+0x907) [0x547447]\n --- /home/dvartanians/tt-metal/build/python_env/bin/python3.8(_PyFunction_Vectorcall+0x1b6) [0x5d5846]\n --- /home/dvartanians/tt-metal/build/python_env/bin/python3.8(_PyEval_EvalFrameDefault+0x907) [0x547447]\n --- /home/dvartanians/tt-metal/build/python_env/bin/python3.8(_PyFunction_Vectorcall+0x1b6) [0x5d5846]\n --- /home/dvartanians/tt-metal/build/python_env/bin/python3.8(_PyEval_EvalFrameDefault+0x907) [0x547447]\n --- /home/dvartanians/tt-metal/build/python_env/bin/python3.8(_PyFunction_Vectorcall+0x1b6) [0x5d5846]\n --- /home/dvartanians/tt-metal/build/python_env/bin/python3.8(_PyEval_EvalFrameDefault+0x907) [0x547447]\n --- /home/dvartanians/tt-metal/build/python_env/bin/python3.8(_PyFunction_Vectorcall+0x1b6) [0x5d5846]\n --- /home/dvartanians/tt-metal/build/python_env/bin/python3.8(_PyEval_EvalFrameDefault+0x907) [0x547447]\n --- /home/dvartanians/tt-metal/build/python_env/bin/python3.8(_PyEval_EvalCodeWithName+0x26a) [0x54552a]\n --- /home/dvartanians/tt-metal/build/python_env/bin/python3.8() [0x4e1bd0]\n --- /home/dvartanians/tt-metal/build/python_env/bin/python3.8(_PyEval_EvalFrameDefault+0x5d69) [0x54c8a9]\n --- /home/dvartanians/tt-metal/build/python_env/bin/python3.8(_PyEval_EvalCodeWithName+0x26a) [0x54552a]\n --- /home/dvartanians/tt-metal/build/python_env/bin/python3.8(PyEval_EvalCode+0x27) [0x684327]\n --- /home/dvartanians/tt-metal/build/python_env/bin/python3.8() [0x5e1514]\n --- /home/dvartanians/tt-metal/build/python_env/bin/python3.8() [0x5a27d0]\n --- /home/dvartanians/tt-metal/build/python_env/bin/python3.8(_PyEval_EvalFrameDefault+0x725) [0x547265]\n"
     ]
    }
   ],
   "source": [
    "# matrix x vector\n",
    "tensor1 = ttnn.to_device(ttnn.from_torch(torch.randn((64, 32), dtype=torch.bfloat16)), device)\n",
    "tensor2 = ttnn.to_device(ttnn.from_torch(torch.randn((32), dtype=torch.bfloat16)), device)\n",
    "output = tensor1 @ tensor2\n",
    "print(output.shape)\n"
   ]
  },
  {
   "cell_type": "code",
   "execution_count": 9,
   "id": "c5583e0f-3dc3-497e-a88b-0e5fac42e313",
   "metadata": {},
   "outputs": [
    {
     "name": "stdout",
     "output_type": "stream",
     "text": [
      "\u001b[38;2;000;128;000m                 Always\u001b[0m | \u001b[1m\u001b[38;2;255;000;000mFATAL   \u001b[0m | Page size must be divisible by sizeof(uint32_t) because buffers hold uint32_t values\n"
     ]
    },
    {
     "ename": "RuntimeError",
     "evalue": "TT_FATAL @ tt_metal/impl/buffers/buffer.cpp:22: page_size % sizeof(uint32_t) == 0\ninfo:\nPage size must be divisible by sizeof(uint32_t) because buffers hold uint32_t values\nbacktrace:\n --- tt::tt_metal::Buffer::Buffer(tt::tt_metal::Device*, unsigned long, unsigned long, tt::tt_metal::BufferType)\n --- tt::tt_metal::tensor_impl::detail::allocate_interleaved_buffer_on_device(unsigned int, tt::tt_metal::Device*, tt::tt_metal::Shape const&, tt::tt_metal::DataType, tt::tt_metal::Layout, tt::tt_metal::MemoryConfig const&)\n --- tt::tt_metal::tensor_impl::allocate_buffer_on_device(unsigned int, tt::tt_metal::Device*, tt::tt_metal::Shape const&, tt::tt_metal::DataType, tt::tt_metal::Layout, tt::tt_metal::MemoryConfig const&)\n --- /home/dvartanians/tt-metal/tt_eager/tt_lib/_C.so(+0x50f507) [0x7fb557204507]\n --- /home/dvartanians/tt-metal/tt_eager/tt_lib/_C.so(_ZNSt8__detail9__variant17__gen_vtable_implILb1ENS0_12_Multi_arrayIPFSt10shared_ptrIN2tt8tt_metal6BufferEEOZNS5_11tensor_impl16to_device_bufferI8bfloat16EES7_RKSt7variantIJNS5_12OwnedStorageENS5_13DeviceStorageENS5_15BorrowedStorageEEEPNS5_6DeviceERKNS5_5ShapeENS5_8DataTypeENS5_6LayoutERKNS5_12MemoryConfigEEUlOT_E_SH_EJEEESt5tupleIJSH_EESt16integer_sequenceImJLm2EEEE14__visit_invokeESV_SH_+0x22) [0x7fb557204bf2]\n --- /home/dvartanians/tt-metal/tt_eager/tt_lib/_C.so(+0x50c706) [0x7fb557201706]\n --- std::_Function_handler<tt::tt_metal::Tensor (tt::tt_metal::Tensor const&, tt::tt_metal::Device*, tt::tt_metal::MemoryConfig const&), tt::tt_metal::Tensor (*)(tt::tt_metal::Tensor const&, tt::tt_metal::Device*, tt::tt_metal::MemoryConfig const&)>::_M_invoke(std::_Any_data const&, tt::tt_metal::Tensor const&, tt::tt_metal::Device*&&, tt::tt_metal::MemoryConfig const&)\n --- tt::tt_metal::tensor_impl::to_device_wrapper(tt::tt_metal::Tensor const&, tt::tt_metal::Device*, tt::tt_metal::MemoryConfig const&)\n --- tt::tt_metal::Tensor::to(tt::tt_metal::Device*, tt::tt_metal::MemoryConfig const&) const\n --- /home/dvartanians/tt-metal/tt_eager/tt_lib/_C.so(+0x1c89ab) [0x7fb556ebd9ab]\n --- /home/dvartanians/tt-metal/tt_eager/tt_lib/_C.so(+0x141516) [0x7fb556e36516]\n --- /home/dvartanians/tt-metal/build/python_env/bin/python3.8(PyCFunction_Call+0x59) [0x5d5499]\n --- /home/dvartanians/tt-metal/build/python_env/bin/python3.8(_PyObject_MakeTpCall+0x296) [0x5d6066]\n --- /home/dvartanians/tt-metal/build/python_env/bin/python3.8() [0x4e22b3]\n --- /home/dvartanians/tt-metal/build/python_env/bin/python3.8(_PyEval_EvalFrameDefault+0x5d69) [0x54c8a9]\n --- /home/dvartanians/tt-metal/build/python_env/bin/python3.8(_PyEval_EvalCodeWithName+0x26a) [0x54552a]\n --- /home/dvartanians/tt-metal/build/python_env/bin/python3.8(_PyFunction_Vectorcall+0x393) [0x5d5a23]\n --- /home/dvartanians/tt-metal/build/python_env/bin/python3.8(PyObject_Call+0x62) [0x5d4c12]\n --- /home/dvartanians/tt-metal/tt_eager/tt_lib/_C.so(+0x1ddd00) [0x7fb556ed2d00]\n --- /home/dvartanians/tt-metal/tt_eager/tt_lib/_C.so(+0x1d2c9c) [0x7fb556ec7c9c]\n --- /home/dvartanians/tt-metal/tt_eager/tt_lib/_C.so(+0x1d554d) [0x7fb556eca54d]\n --- /home/dvartanians/tt-metal/tt_eager/tt_lib/_C.so(+0x141516) [0x7fb556e36516]\n --- /home/dvartanians/tt-metal/build/python_env/bin/python3.8(PyCFunction_Call+0x59) [0x5d5499]\n --- /home/dvartanians/tt-metal/build/python_env/bin/python3.8(_PyObject_MakeTpCall+0x296) [0x5d6066]\n --- /home/dvartanians/tt-metal/build/python_env/bin/python3.8(_PyEval_EvalFrameDefault+0x690a) [0x54d44a]\n --- /home/dvartanians/tt-metal/build/python_env/bin/python3.8(_PyEval_EvalCodeWithName+0x26a) [0x54552a]\n --- /home/dvartanians/tt-metal/build/python_env/bin/python3.8(_PyFunction_Vectorcall+0x393) [0x5d5a23]\n --- /home/dvartanians/tt-metal/build/python_env/bin/python3.8(_PyEval_EvalFrameDefault+0x725) [0x547265]\n --- /home/dvartanians/tt-metal/build/python_env/bin/python3.8(_PyFunction_Vectorcall+0x1b6) [0x5d5846]\n --- /home/dvartanians/tt-metal/build/python_env/bin/python3.8(_PyEval_EvalFrameDefault+0x725) [0x547265]\n --- /home/dvartanians/tt-metal/build/python_env/bin/python3.8(_PyEval_EvalCodeWithName+0x26a) [0x54552a]\n --- /home/dvartanians/tt-metal/build/python_env/bin/python3.8(_PyFunction_Vectorcall+0x393) [0x5d5a23]\n --- /home/dvartanians/tt-metal/build/python_env/bin/python3.8() [0x551a88]\n --- /home/dvartanians/tt-metal/build/python_env/bin/python3.8(_PyObject_FastCall_Prepend+0x55) [0x5d49d5]\n --- /home/dvartanians/tt-metal/build/python_env/bin/python3.8() [0x5dd83f]\n --- /home/dvartanians/tt-metal/build/python_env/bin/python3.8() [0x4ab2c0]\n --- /home/dvartanians/tt-metal/build/python_env/bin/python3.8() [0x4e59c7]\n --- /home/dvartanians/tt-metal/build/python_env/bin/python3.8() [0x5ff77a]\n --- /home/dvartanians/tt-metal/build/python_env/bin/python3.8(_PyEval_EvalFrameDefault+0x53ac) [0x54beec]\n --- /home/dvartanians/tt-metal/build/python_env/bin/python3.8(_PyEval_EvalCodeWithName+0x26a) [0x54552a]\n --- /home/dvartanians/tt-metal/build/python_env/bin/python3.8(PyEval_EvalCode+0x27) [0x684327]\n --- /home/dvartanians/tt-metal/build/python_env/bin/python3.8() [0x5e1514]\n --- /home/dvartanians/tt-metal/build/python_env/bin/python3.8() [0x5a27d0]\n --- /home/dvartanians/tt-metal/build/python_env/bin/python3.8(_PyEval_EvalFrameDefault+0x725) [0x547265]\n --- /home/dvartanians/tt-metal/build/python_env/bin/python3.8() [0x4d71f8]\n --- /home/dvartanians/tt-metal/build/python_env/bin/python3.8(_PyEval_EvalFrameDefault+0x212b) [0x548c6b]\n --- /home/dvartanians/tt-metal/build/python_env/bin/python3.8() [0x4d71f8]\n --- /home/dvartanians/tt-metal/build/python_env/bin/python3.8(_PyEval_EvalFrameDefault+0x212b) [0x548c6b]\n --- /home/dvartanians/tt-metal/build/python_env/bin/python3.8() [0x4d71f8]\n --- /home/dvartanians/tt-metal/build/python_env/bin/python3.8() [0x4daf8a]\n --- /home/dvartanians/tt-metal/build/python_env/bin/python3.8(_PyEval_EvalFrameDefault+0x907) [0x547447]\n --- /home/dvartanians/tt-metal/build/python_env/bin/python3.8(_PyFunction_Vectorcall+0x1b6) [0x5d5846]\n --- /home/dvartanians/tt-metal/build/python_env/bin/python3.8(_PyEval_EvalFrameDefault+0x725) [0x547265]\n --- /home/dvartanians/tt-metal/build/python_env/bin/python3.8(_PyFunction_Vectorcall+0x1b6) [0x5d5846]\n --- /home/dvartanians/tt-metal/build/python_env/bin/python3.8(_PyEval_EvalFrameDefault+0x907) [0x547447]\n --- /home/dvartanians/tt-metal/build/python_env/bin/python3.8(_PyEval_EvalCodeWithName+0x26a) [0x54552a]\n --- /home/dvartanians/tt-metal/build/python_env/bin/python3.8(_PyFunction_Vectorcall+0x393) [0x5d5a23]\n --- /home/dvartanians/tt-metal/build/python_env/bin/python3.8() [0x4e1b5c]\n --- /home/dvartanians/tt-metal/build/python_env/bin/python3.8(PyObject_Call+0x62) [0x5d4c12]\n --- /home/dvartanians/tt-metal/build/python_env/bin/python3.8(_PyEval_EvalFrameDefault+0x1f26) [0x548a66]\n --- /home/dvartanians/tt-metal/build/python_env/bin/python3.8(_PyEval_EvalCodeWithName+0x26a) [0x54552a]\n --- /home/dvartanians/tt-metal/build/python_env/bin/python3.8() [0x4e1bd0]\n --- /home/dvartanians/tt-metal/build/python_env/bin/python3.8(_PyEval_EvalFrameDefault+0x1876) [0x5483b6]\n --- /home/dvartanians/tt-metal/build/python_env/bin/python3.8() [0x4d71f8]\n --- /home/dvartanians/tt-metal/build/python_env/bin/python3.8(_PyEval_EvalFrameDefault+0x212b) [0x548c6b]\n --- /home/dvartanians/tt-metal/build/python_env/bin/python3.8() [0x4d71f8]\n --- /home/dvartanians/tt-metal/build/python_env/bin/python3.8(_PyEval_EvalFrameDefault+0x212b) [0x548c6b]\n --- /home/dvartanians/tt-metal/build/python_env/bin/python3.8() [0x4d71f8]\n --- /home/dvartanians/tt-metal/build/python_env/bin/python3.8(_PyEval_EvalFrameDefault+0x212b) [0x548c6b]\n --- /home/dvartanians/tt-metal/build/python_env/bin/python3.8() [0x4d71f8]\n --- /home/dvartanians/tt-metal/build/python_env/bin/python3.8(_PyEval_EvalFrameDefault+0x212b) [0x548c6b]\n --- /home/dvartanians/tt-metal/build/python_env/bin/python3.8() [0x4d71f8]\n --- /usr/lib/python3.8/lib-dynload/_asyncio.cpython-38-x86_64-linux-gnu.so(+0x7ef9) [0x7fb5c9df9ef9]\n --- /usr/lib/python3.8/lib-dynload/_asyncio.cpython-38-x86_64-linux-gnu.so(+0x9083) [0x7fb5c9dfb083]\n --- /home/dvartanians/tt-metal/build/python_env/bin/python3.8(_PyObject_MakeTpCall+0x296) [0x5d6066]\n --- /home/dvartanians/tt-metal/build/python_env/bin/python3.8() [0x5dfc0b]\n --- /home/dvartanians/tt-metal/build/python_env/bin/python3.8() [0x5a26b7]\n --- /home/dvartanians/tt-metal/build/python_env/bin/python3.8(PyVectorcall_Call+0x58) [0x5d51d8]\n --- /home/dvartanians/tt-metal/build/python_env/bin/python3.8(_PyEval_EvalFrameDefault+0x6eb0) [0x54d9f0]\n --- /home/dvartanians/tt-metal/build/python_env/bin/python3.8(_PyFunction_Vectorcall+0x1b6) [0x5d5846]\n --- /home/dvartanians/tt-metal/build/python_env/bin/python3.8(_PyEval_EvalFrameDefault+0x907) [0x547447]\n --- /home/dvartanians/tt-metal/build/python_env/bin/python3.8(_PyFunction_Vectorcall+0x1b6) [0x5d5846]\n --- /home/dvartanians/tt-metal/build/python_env/bin/python3.8(_PyEval_EvalFrameDefault+0x907) [0x547447]\n --- /home/dvartanians/tt-metal/build/python_env/bin/python3.8(_PyFunction_Vectorcall+0x1b6) [0x5d5846]\n --- /home/dvartanians/tt-metal/build/python_env/bin/python3.8(_PyEval_EvalFrameDefault+0x907) [0x547447]\n --- /home/dvartanians/tt-metal/build/python_env/bin/python3.8(_PyFunction_Vectorcall+0x1b6) [0x5d5846]\n --- /home/dvartanians/tt-metal/build/python_env/bin/python3.8(_PyEval_EvalFrameDefault+0x907) [0x547447]\n --- /home/dvartanians/tt-metal/build/python_env/bin/python3.8(_PyFunction_Vectorcall+0x1b6) [0x5d5846]\n --- /home/dvartanians/tt-metal/build/python_env/bin/python3.8(_PyEval_EvalFrameDefault+0x907) [0x547447]\n --- /home/dvartanians/tt-metal/build/python_env/bin/python3.8(_PyEval_EvalCodeWithName+0x26a) [0x54552a]\n --- /home/dvartanians/tt-metal/build/python_env/bin/python3.8() [0x4e1bd0]\n --- /home/dvartanians/tt-metal/build/python_env/bin/python3.8(_PyEval_EvalFrameDefault+0x5d69) [0x54c8a9]\n --- /home/dvartanians/tt-metal/build/python_env/bin/python3.8(_PyEval_EvalCodeWithName+0x26a) [0x54552a]\n --- /home/dvartanians/tt-metal/build/python_env/bin/python3.8(PyEval_EvalCode+0x27) [0x684327]\n --- /home/dvartanians/tt-metal/build/python_env/bin/python3.8() [0x5e1514]\n --- /home/dvartanians/tt-metal/build/python_env/bin/python3.8() [0x5a27d0]\n --- /home/dvartanians/tt-metal/build/python_env/bin/python3.8(_PyEval_EvalFrameDefault+0x725) [0x547265]\n",
     "output_type": "error",
     "traceback": [
      "\u001b[0;31m---------------------------------------------------------------------------\u001b[0m",
      "\u001b[0;31mRuntimeError\u001b[0m                              Traceback (most recent call last)",
      "Cell \u001b[0;32mIn[9], line 4\u001b[0m\n\u001b[1;32m      2\u001b[0m tensor1 \u001b[38;5;241m=\u001b[39m ttnn\u001b[38;5;241m.\u001b[39mto_device(ttnn\u001b[38;5;241m.\u001b[39mfrom_torch(torch\u001b[38;5;241m.\u001b[39mrandn((\u001b[38;5;241m10\u001b[39m, \u001b[38;5;241m64\u001b[39m, \u001b[38;5;241m32\u001b[39m), dtype\u001b[38;5;241m=\u001b[39mtorch\u001b[38;5;241m.\u001b[39mbfloat16)), device)\n\u001b[1;32m      3\u001b[0m tensor2 \u001b[38;5;241m=\u001b[39m ttnn\u001b[38;5;241m.\u001b[39mto_device(ttnn\u001b[38;5;241m.\u001b[39mfrom_torch(torch\u001b[38;5;241m.\u001b[39mrandn((\u001b[38;5;241m32\u001b[39m), dtype\u001b[38;5;241m=\u001b[39mtorch\u001b[38;5;241m.\u001b[39mbfloat16)), device)\n\u001b[0;32m----> 4\u001b[0m output \u001b[38;5;241m=\u001b[39m \u001b[43mtensor1\u001b[49m\u001b[43m \u001b[49m\u001b[38;5;241;43m@\u001b[39;49m\u001b[43m \u001b[49m\u001b[43mtensor2\u001b[49m\n\u001b[1;32m      5\u001b[0m \u001b[38;5;28mprint\u001b[39m(output\u001b[38;5;241m.\u001b[39mshape)\n",
      "File \u001b[0;32m~/tt-metal/ttnn/core.py:214\u001b[0m, in \u001b[0;36mmatmul\u001b[0;34m(input_tensor_a, input_tensor_b, memory_config, dtype, core_grid)\u001b[0m\n\u001b[1;32m    211\u001b[0m     \u001b[38;5;241m*\u001b[39mbatch_shape_b, height_b, width_b \u001b[38;5;241m=\u001b[39m input_shape_b\n\u001b[1;32m    213\u001b[0m input_tensor_a \u001b[38;5;241m=\u001b[39m reshape(input_tensor_a, \u001b[38;5;28mtuple\u001b[39m(batch_shape_a \u001b[38;5;241m+\u001b[39m [height_a, width_a]))\n\u001b[0;32m--> 214\u001b[0m input_tensor_b \u001b[38;5;241m=\u001b[39m \u001b[43mreshape\u001b[49m\u001b[43m(\u001b[49m\u001b[43minput_tensor_b\u001b[49m\u001b[43m,\u001b[49m\u001b[43m \u001b[49m\u001b[38;5;28;43mtuple\u001b[39;49m\u001b[43m(\u001b[49m\u001b[43mbatch_shape_b\u001b[49m\u001b[43m \u001b[49m\u001b[38;5;241;43m+\u001b[39;49m\u001b[43m \u001b[49m\u001b[43m[\u001b[49m\u001b[43mheight_b\u001b[49m\u001b[43m,\u001b[49m\u001b[43m \u001b[49m\u001b[43mwidth_b\u001b[49m\u001b[43m]\u001b[49m\u001b[43m)\u001b[49m\u001b[43m)\u001b[49m\n\u001b[1;32m    216\u001b[0m input_tensor_a \u001b[38;5;241m=\u001b[39m _reshape_to_4D(input_tensor_a)\n\u001b[1;32m    217\u001b[0m input_tensor_b \u001b[38;5;241m=\u001b[39m _reshape_to_4D(input_tensor_b)\n",
      "File \u001b[0;32m~/tt-metal/ttnn/core.py:1028\u001b[0m, in \u001b[0;36mreshape\u001b[0;34m(input_tensor, shape)\u001b[0m\n\u001b[1;32m   1026\u001b[0m     tensor \u001b[38;5;241m=\u001b[39m ttl\u001b[38;5;241m.\u001b[39mtensor\u001b[38;5;241m.\u001b[39mdecorate_external_operation(torch_reshape, function_name\u001b[38;5;241m=\u001b[39m\u001b[38;5;124m\"\u001b[39m\u001b[38;5;124mtorch.reshape\u001b[39m\u001b[38;5;124m\"\u001b[39m)(tensor, shape)\n\u001b[1;32m   1027\u001b[0m     tensor \u001b[38;5;241m=\u001b[39m from_torch(tensor, input_tensor\u001b[38;5;241m.\u001b[39mdtype)\n\u001b[0;32m-> 1028\u001b[0m     tensor \u001b[38;5;241m=\u001b[39m \u001b[43mto_device\u001b[49m\u001b[43m(\u001b[49m\u001b[43mtensor\u001b[49m\u001b[43m,\u001b[49m\u001b[43m \u001b[49m\u001b[43mdevice\u001b[49m\u001b[43m)\u001b[49m\n\u001b[1;32m   1029\u001b[0m \u001b[38;5;28;01melse\u001b[39;00m:\n\u001b[1;32m   1030\u001b[0m     tensor \u001b[38;5;241m=\u001b[39m to_layout(input_tensor, ROW_MAJOR_LAYOUT)\n",
      "File \u001b[0;32m~/tt-metal/ttnn/tensor.py:167\u001b[0m, in \u001b[0;36mto_device\u001b[0;34m(tensor, device, memory_config)\u001b[0m\n\u001b[1;32m    164\u001b[0m     ttl_tensor \u001b[38;5;241m=\u001b[39m tensor\u001b[38;5;241m.\u001b[39m_tensor\n\u001b[1;32m    165\u001b[0m     \u001b[38;5;28;01mreturn\u001b[39;00m Tensor(ttl_tensor\u001b[38;5;241m.\u001b[39mto(device, memory_config))\n\u001b[0;32m--> 167\u001b[0m \u001b[38;5;28;01mreturn\u001b[39;00m \u001b[43mttl\u001b[49m\u001b[38;5;241;43m.\u001b[39;49m\u001b[43mtensor\u001b[49m\u001b[38;5;241;43m.\u001b[39;49m\u001b[43mdecorate_external_operation\u001b[49m\u001b[43m(\u001b[49m\u001b[43mimpl\u001b[49m\u001b[43m,\u001b[49m\u001b[43m \u001b[49m\u001b[43mfunction_name\u001b[49m\u001b[38;5;241;43m=\u001b[39;49m\u001b[38;5;124;43m\"\u001b[39;49m\u001b[38;5;124;43mttnn.to_device\u001b[39;49m\u001b[38;5;124;43m\"\u001b[39;49m\u001b[43m)\u001b[49m\u001b[43m(\u001b[49m\n\u001b[1;32m    168\u001b[0m \u001b[43m    \u001b[49m\u001b[43mtensor\u001b[49m\u001b[43m,\u001b[49m\u001b[43m \u001b[49m\u001b[43mdevice\u001b[49m\u001b[43m,\u001b[49m\u001b[43m \u001b[49m\u001b[43mmemory_config\u001b[49m\u001b[38;5;241;43m=\u001b[39;49m\u001b[43mmemory_config\u001b[49m\n\u001b[1;32m    169\u001b[0m \u001b[43m\u001b[49m\u001b[43m)\u001b[49m\n",
      "File \u001b[0;32m~/tt-metal/ttnn/tensor.py:165\u001b[0m, in \u001b[0;36mto_device.<locals>.impl\u001b[0;34m(tensor, device, memory_config)\u001b[0m\n\u001b[1;32m    163\u001b[0m \u001b[38;5;28;01mdef\u001b[39;00m \u001b[38;5;21mimpl\u001b[39m(tensor, device, \u001b[38;5;241m*\u001b[39m, memory_config):\n\u001b[1;32m    164\u001b[0m     ttl_tensor \u001b[38;5;241m=\u001b[39m tensor\u001b[38;5;241m.\u001b[39m_tensor\n\u001b[0;32m--> 165\u001b[0m     \u001b[38;5;28;01mreturn\u001b[39;00m Tensor(\u001b[43mttl_tensor\u001b[49m\u001b[38;5;241;43m.\u001b[39;49m\u001b[43mto\u001b[49m\u001b[43m(\u001b[49m\u001b[43mdevice\u001b[49m\u001b[43m,\u001b[49m\u001b[43m \u001b[49m\u001b[43mmemory_config\u001b[49m\u001b[43m)\u001b[49m)\n",
      "\u001b[0;31mRuntimeError\u001b[0m: TT_FATAL @ tt_metal/impl/buffers/buffer.cpp:22: page_size % sizeof(uint32_t) == 0\ninfo:\nPage size must be divisible by sizeof(uint32_t) because buffers hold uint32_t values\nbacktrace:\n --- tt::tt_metal::Buffer::Buffer(tt::tt_metal::Device*, unsigned long, unsigned long, tt::tt_metal::BufferType)\n --- tt::tt_metal::tensor_impl::detail::allocate_interleaved_buffer_on_device(unsigned int, tt::tt_metal::Device*, tt::tt_metal::Shape const&, tt::tt_metal::DataType, tt::tt_metal::Layout, tt::tt_metal::MemoryConfig const&)\n --- tt::tt_metal::tensor_impl::allocate_buffer_on_device(unsigned int, tt::tt_metal::Device*, tt::tt_metal::Shape const&, tt::tt_metal::DataType, tt::tt_metal::Layout, tt::tt_metal::MemoryConfig const&)\n --- /home/dvartanians/tt-metal/tt_eager/tt_lib/_C.so(+0x50f507) [0x7fb557204507]\n --- /home/dvartanians/tt-metal/tt_eager/tt_lib/_C.so(_ZNSt8__detail9__variant17__gen_vtable_implILb1ENS0_12_Multi_arrayIPFSt10shared_ptrIN2tt8tt_metal6BufferEEOZNS5_11tensor_impl16to_device_bufferI8bfloat16EES7_RKSt7variantIJNS5_12OwnedStorageENS5_13DeviceStorageENS5_15BorrowedStorageEEEPNS5_6DeviceERKNS5_5ShapeENS5_8DataTypeENS5_6LayoutERKNS5_12MemoryConfigEEUlOT_E_SH_EJEEESt5tupleIJSH_EESt16integer_sequenceImJLm2EEEE14__visit_invokeESV_SH_+0x22) [0x7fb557204bf2]\n --- /home/dvartanians/tt-metal/tt_eager/tt_lib/_C.so(+0x50c706) [0x7fb557201706]\n --- std::_Function_handler<tt::tt_metal::Tensor (tt::tt_metal::Tensor const&, tt::tt_metal::Device*, tt::tt_metal::MemoryConfig const&), tt::tt_metal::Tensor (*)(tt::tt_metal::Tensor const&, tt::tt_metal::Device*, tt::tt_metal::MemoryConfig const&)>::_M_invoke(std::_Any_data const&, tt::tt_metal::Tensor const&, tt::tt_metal::Device*&&, tt::tt_metal::MemoryConfig const&)\n --- tt::tt_metal::tensor_impl::to_device_wrapper(tt::tt_metal::Tensor const&, tt::tt_metal::Device*, tt::tt_metal::MemoryConfig const&)\n --- tt::tt_metal::Tensor::to(tt::tt_metal::Device*, tt::tt_metal::MemoryConfig const&) const\n --- /home/dvartanians/tt-metal/tt_eager/tt_lib/_C.so(+0x1c89ab) [0x7fb556ebd9ab]\n --- /home/dvartanians/tt-metal/tt_eager/tt_lib/_C.so(+0x141516) [0x7fb556e36516]\n --- /home/dvartanians/tt-metal/build/python_env/bin/python3.8(PyCFunction_Call+0x59) [0x5d5499]\n --- /home/dvartanians/tt-metal/build/python_env/bin/python3.8(_PyObject_MakeTpCall+0x296) [0x5d6066]\n --- /home/dvartanians/tt-metal/build/python_env/bin/python3.8() [0x4e22b3]\n --- /home/dvartanians/tt-metal/build/python_env/bin/python3.8(_PyEval_EvalFrameDefault+0x5d69) [0x54c8a9]\n --- /home/dvartanians/tt-metal/build/python_env/bin/python3.8(_PyEval_EvalCodeWithName+0x26a) [0x54552a]\n --- /home/dvartanians/tt-metal/build/python_env/bin/python3.8(_PyFunction_Vectorcall+0x393) [0x5d5a23]\n --- /home/dvartanians/tt-metal/build/python_env/bin/python3.8(PyObject_Call+0x62) [0x5d4c12]\n --- /home/dvartanians/tt-metal/tt_eager/tt_lib/_C.so(+0x1ddd00) [0x7fb556ed2d00]\n --- /home/dvartanians/tt-metal/tt_eager/tt_lib/_C.so(+0x1d2c9c) [0x7fb556ec7c9c]\n --- /home/dvartanians/tt-metal/tt_eager/tt_lib/_C.so(+0x1d554d) [0x7fb556eca54d]\n --- /home/dvartanians/tt-metal/tt_eager/tt_lib/_C.so(+0x141516) [0x7fb556e36516]\n --- /home/dvartanians/tt-metal/build/python_env/bin/python3.8(PyCFunction_Call+0x59) [0x5d5499]\n --- /home/dvartanians/tt-metal/build/python_env/bin/python3.8(_PyObject_MakeTpCall+0x296) [0x5d6066]\n --- /home/dvartanians/tt-metal/build/python_env/bin/python3.8(_PyEval_EvalFrameDefault+0x690a) [0x54d44a]\n --- /home/dvartanians/tt-metal/build/python_env/bin/python3.8(_PyEval_EvalCodeWithName+0x26a) [0x54552a]\n --- /home/dvartanians/tt-metal/build/python_env/bin/python3.8(_PyFunction_Vectorcall+0x393) [0x5d5a23]\n --- /home/dvartanians/tt-metal/build/python_env/bin/python3.8(_PyEval_EvalFrameDefault+0x725) [0x547265]\n --- /home/dvartanians/tt-metal/build/python_env/bin/python3.8(_PyFunction_Vectorcall+0x1b6) [0x5d5846]\n --- /home/dvartanians/tt-metal/build/python_env/bin/python3.8(_PyEval_EvalFrameDefault+0x725) [0x547265]\n --- /home/dvartanians/tt-metal/build/python_env/bin/python3.8(_PyEval_EvalCodeWithName+0x26a) [0x54552a]\n --- /home/dvartanians/tt-metal/build/python_env/bin/python3.8(_PyFunction_Vectorcall+0x393) [0x5d5a23]\n --- /home/dvartanians/tt-metal/build/python_env/bin/python3.8() [0x551a88]\n --- /home/dvartanians/tt-metal/build/python_env/bin/python3.8(_PyObject_FastCall_Prepend+0x55) [0x5d49d5]\n --- /home/dvartanians/tt-metal/build/python_env/bin/python3.8() [0x5dd83f]\n --- /home/dvartanians/tt-metal/build/python_env/bin/python3.8() [0x4ab2c0]\n --- /home/dvartanians/tt-metal/build/python_env/bin/python3.8() [0x4e59c7]\n --- /home/dvartanians/tt-metal/build/python_env/bin/python3.8() [0x5ff77a]\n --- /home/dvartanians/tt-metal/build/python_env/bin/python3.8(_PyEval_EvalFrameDefault+0x53ac) [0x54beec]\n --- /home/dvartanians/tt-metal/build/python_env/bin/python3.8(_PyEval_EvalCodeWithName+0x26a) [0x54552a]\n --- /home/dvartanians/tt-metal/build/python_env/bin/python3.8(PyEval_EvalCode+0x27) [0x684327]\n --- /home/dvartanians/tt-metal/build/python_env/bin/python3.8() [0x5e1514]\n --- /home/dvartanians/tt-metal/build/python_env/bin/python3.8() [0x5a27d0]\n --- /home/dvartanians/tt-metal/build/python_env/bin/python3.8(_PyEval_EvalFrameDefault+0x725) [0x547265]\n --- /home/dvartanians/tt-metal/build/python_env/bin/python3.8() [0x4d71f8]\n --- /home/dvartanians/tt-metal/build/python_env/bin/python3.8(_PyEval_EvalFrameDefault+0x212b) [0x548c6b]\n --- /home/dvartanians/tt-metal/build/python_env/bin/python3.8() [0x4d71f8]\n --- /home/dvartanians/tt-metal/build/python_env/bin/python3.8(_PyEval_EvalFrameDefault+0x212b) [0x548c6b]\n --- /home/dvartanians/tt-metal/build/python_env/bin/python3.8() [0x4d71f8]\n --- /home/dvartanians/tt-metal/build/python_env/bin/python3.8() [0x4daf8a]\n --- /home/dvartanians/tt-metal/build/python_env/bin/python3.8(_PyEval_EvalFrameDefault+0x907) [0x547447]\n --- /home/dvartanians/tt-metal/build/python_env/bin/python3.8(_PyFunction_Vectorcall+0x1b6) [0x5d5846]\n --- /home/dvartanians/tt-metal/build/python_env/bin/python3.8(_PyEval_EvalFrameDefault+0x725) [0x547265]\n --- /home/dvartanians/tt-metal/build/python_env/bin/python3.8(_PyFunction_Vectorcall+0x1b6) [0x5d5846]\n --- /home/dvartanians/tt-metal/build/python_env/bin/python3.8(_PyEval_EvalFrameDefault+0x907) [0x547447]\n --- /home/dvartanians/tt-metal/build/python_env/bin/python3.8(_PyEval_EvalCodeWithName+0x26a) [0x54552a]\n --- /home/dvartanians/tt-metal/build/python_env/bin/python3.8(_PyFunction_Vectorcall+0x393) [0x5d5a23]\n --- /home/dvartanians/tt-metal/build/python_env/bin/python3.8() [0x4e1b5c]\n --- /home/dvartanians/tt-metal/build/python_env/bin/python3.8(PyObject_Call+0x62) [0x5d4c12]\n --- /home/dvartanians/tt-metal/build/python_env/bin/python3.8(_PyEval_EvalFrameDefault+0x1f26) [0x548a66]\n --- /home/dvartanians/tt-metal/build/python_env/bin/python3.8(_PyEval_EvalCodeWithName+0x26a) [0x54552a]\n --- /home/dvartanians/tt-metal/build/python_env/bin/python3.8() [0x4e1bd0]\n --- /home/dvartanians/tt-metal/build/python_env/bin/python3.8(_PyEval_EvalFrameDefault+0x1876) [0x5483b6]\n --- /home/dvartanians/tt-metal/build/python_env/bin/python3.8() [0x4d71f8]\n --- /home/dvartanians/tt-metal/build/python_env/bin/python3.8(_PyEval_EvalFrameDefault+0x212b) [0x548c6b]\n --- /home/dvartanians/tt-metal/build/python_env/bin/python3.8() [0x4d71f8]\n --- /home/dvartanians/tt-metal/build/python_env/bin/python3.8(_PyEval_EvalFrameDefault+0x212b) [0x548c6b]\n --- /home/dvartanians/tt-metal/build/python_env/bin/python3.8() [0x4d71f8]\n --- /home/dvartanians/tt-metal/build/python_env/bin/python3.8(_PyEval_EvalFrameDefault+0x212b) [0x548c6b]\n --- /home/dvartanians/tt-metal/build/python_env/bin/python3.8() [0x4d71f8]\n --- /home/dvartanians/tt-metal/build/python_env/bin/python3.8(_PyEval_EvalFrameDefault+0x212b) [0x548c6b]\n --- /home/dvartanians/tt-metal/build/python_env/bin/python3.8() [0x4d71f8]\n --- /usr/lib/python3.8/lib-dynload/_asyncio.cpython-38-x86_64-linux-gnu.so(+0x7ef9) [0x7fb5c9df9ef9]\n --- /usr/lib/python3.8/lib-dynload/_asyncio.cpython-38-x86_64-linux-gnu.so(+0x9083) [0x7fb5c9dfb083]\n --- /home/dvartanians/tt-metal/build/python_env/bin/python3.8(_PyObject_MakeTpCall+0x296) [0x5d6066]\n --- /home/dvartanians/tt-metal/build/python_env/bin/python3.8() [0x5dfc0b]\n --- /home/dvartanians/tt-metal/build/python_env/bin/python3.8() [0x5a26b7]\n --- /home/dvartanians/tt-metal/build/python_env/bin/python3.8(PyVectorcall_Call+0x58) [0x5d51d8]\n --- /home/dvartanians/tt-metal/build/python_env/bin/python3.8(_PyEval_EvalFrameDefault+0x6eb0) [0x54d9f0]\n --- /home/dvartanians/tt-metal/build/python_env/bin/python3.8(_PyFunction_Vectorcall+0x1b6) [0x5d5846]\n --- /home/dvartanians/tt-metal/build/python_env/bin/python3.8(_PyEval_EvalFrameDefault+0x907) [0x547447]\n --- /home/dvartanians/tt-metal/build/python_env/bin/python3.8(_PyFunction_Vectorcall+0x1b6) [0x5d5846]\n --- /home/dvartanians/tt-metal/build/python_env/bin/python3.8(_PyEval_EvalFrameDefault+0x907) [0x547447]\n --- /home/dvartanians/tt-metal/build/python_env/bin/python3.8(_PyFunction_Vectorcall+0x1b6) [0x5d5846]\n --- /home/dvartanians/tt-metal/build/python_env/bin/python3.8(_PyEval_EvalFrameDefault+0x907) [0x547447]\n --- /home/dvartanians/tt-metal/build/python_env/bin/python3.8(_PyFunction_Vectorcall+0x1b6) [0x5d5846]\n --- /home/dvartanians/tt-metal/build/python_env/bin/python3.8(_PyEval_EvalFrameDefault+0x907) [0x547447]\n --- /home/dvartanians/tt-metal/build/python_env/bin/python3.8(_PyFunction_Vectorcall+0x1b6) [0x5d5846]\n --- /home/dvartanians/tt-metal/build/python_env/bin/python3.8(_PyEval_EvalFrameDefault+0x907) [0x547447]\n --- /home/dvartanians/tt-metal/build/python_env/bin/python3.8(_PyEval_EvalCodeWithName+0x26a) [0x54552a]\n --- /home/dvartanians/tt-metal/build/python_env/bin/python3.8() [0x4e1bd0]\n --- /home/dvartanians/tt-metal/build/python_env/bin/python3.8(_PyEval_EvalFrameDefault+0x5d69) [0x54c8a9]\n --- /home/dvartanians/tt-metal/build/python_env/bin/python3.8(_PyEval_EvalCodeWithName+0x26a) [0x54552a]\n --- /home/dvartanians/tt-metal/build/python_env/bin/python3.8(PyEval_EvalCode+0x27) [0x684327]\n --- /home/dvartanians/tt-metal/build/python_env/bin/python3.8() [0x5e1514]\n --- /home/dvartanians/tt-metal/build/python_env/bin/python3.8() [0x5a27d0]\n --- /home/dvartanians/tt-metal/build/python_env/bin/python3.8(_PyEval_EvalFrameDefault+0x725) [0x547265]\n"
     ]
    }
   ],
   "source": [
    "# batched matrix x broadcasted vector\n",
    "tensor1 = ttnn.to_device(ttnn.from_torch(torch.randn((10, 64, 32), dtype=torch.bfloat16)), device)\n",
    "tensor2 = ttnn.to_device(ttnn.from_torch(torch.randn((32), dtype=torch.bfloat16)), device)\n",
    "output = tensor1 @ tensor2\n",
    "print(output.shape)\n"
   ]
  },
  {
   "cell_type": "code",
   "execution_count": 10,
   "id": "19350cc6-df30-4c10-9484-7e81540c835a",
   "metadata": {},
   "outputs": [
    {
     "name": "stdout",
     "output_type": "stream",
     "text": [
      "[10, 64, 128]\n"
     ]
    }
   ],
   "source": [
    "# batched matrix x batched matrix\n",
    "tensor1 = ttnn.to_device(ttnn.from_torch(torch.randn((10, 64, 32), dtype=torch.bfloat16)), device)\n",
    "tensor2 = ttnn.to_device(ttnn.from_torch(torch.randn((10, 32, 128), dtype=torch.bfloat16)), device)\n",
    "output = tensor1 @ tensor2\n",
    "print(output.shape)"
   ]
  },
  {
   "cell_type": "code",
   "execution_count": 11,
   "id": "895a49b1-71ad-4077-bfdf-4ce6e02a7d1e",
   "metadata": {},
   "outputs": [
    {
     "name": "stdout",
     "output_type": "stream",
     "text": [
      "[10, 64, 128]\n"
     ]
    }
   ],
   "source": [
    "# batched matrix x broadcasted matrix\n",
    "tensor1 = ttnn.to_device(ttnn.from_torch(torch.randn((10, 64, 32), dtype=torch.bfloat16)), device)\n",
    "tensor2 = ttnn.to_device(ttnn.from_torch(torch.randn((32, 128), dtype=torch.bfloat16)), device)\n",
    "output = tensor1 @ tensor2\n",
    "print(output.shape)"
   ]
  },
  {
   "cell_type": "code",
   "execution_count": 12,
   "id": "b3675875-bcff-401d-9640-b90371d1c01f",
   "metadata": {},
   "outputs": [
    {
     "name": "stdout",
     "output_type": "stream",
     "text": [
      "Tensor([ 0, 2], dtype=bfloat16 )\n",
      "\n"
     ]
    }
   ],
   "source": [
    "#ttnn.mul\n",
    "tensor1 = ttnn.to_device(ttnn.from_torch(torch.tensor((1, 2), dtype=torch.bfloat16)), device)\n",
    "tensor2 = ttnn.to_device(ttnn.from_torch(torch.tensor((0, 1), dtype=torch.bfloat16)), device)\n",
    "output = ttnn.mul(tensor1, tensor2)\n",
    "print(output)"
   ]
  },
  {
   "cell_type": "code",
   "execution_count": 13,
   "id": "dd32c139-4bdf-4f4a-8930-c4ce7667bdaa",
   "metadata": {},
   "outputs": [
    {
     "name": "stdout",
     "output_type": "stream",
     "text": [
      "[1, 1, 32, 64]\n"
     ]
    }
   ],
   "source": [
    "#ttnn.permute\n",
    "tensor = ttnn.to_device(ttnn.from_torch(torch.zeros((1, 1, 64, 32), dtype=torch.bfloat16)), device)\n",
    "output = ttnn.permute(tensor, (0, 1, 3, 2))\n",
    "print(output.shape)"
   ]
  },
  {
   "cell_type": "code",
   "execution_count": 14,
   "id": "40adeaff-a7b7-49ad-adfe-f59d5db64fb7",
   "metadata": {},
   "outputs": [
    {
     "name": "stdout",
     "output_type": "stream",
     "text": [
      "[1, 1, 32, 64]\n"
     ]
    }
   ],
   "source": [
    "#ttnn.reshape\n",
    "tensor = ttnn.to_device(ttnn.from_torch(torch.zeros((1, 1, 64, 32), dtype=torch.bfloat16)), device)\n",
    "output = ttnn.reshape(tensor, (1, 1, 32, 64))\n",
    "print(output.shape)"
   ]
  },
  {
   "cell_type": "code",
   "execution_count": 15,
   "id": "427d4163-4a5f-437f-8aeb-01e6b22dcf19",
   "metadata": {},
   "outputs": [
    {
     "ename": "RuntimeError",
     "evalue": "Tensor must be in ROW_MAJOR layout to use slicing!",
     "output_type": "error",
     "traceback": [
      "\u001b[0;31m---------------------------------------------------------------------------\u001b[0m",
      "\u001b[0;31mRuntimeError\u001b[0m                              Traceback (most recent call last)",
      "Cell \u001b[0;32mIn[15], line 4\u001b[0m\n\u001b[1;32m      2\u001b[0m tensor \u001b[38;5;241m=\u001b[39m ttnn\u001b[38;5;241m.\u001b[39mto_device(ttnn\u001b[38;5;241m.\u001b[39mfrom_torch(torch\u001b[38;5;241m.\u001b[39mzeros((\u001b[38;5;241m1\u001b[39m, \u001b[38;5;241m1\u001b[39m, \u001b[38;5;241m64\u001b[39m, \u001b[38;5;241m32\u001b[39m), dtype\u001b[38;5;241m=\u001b[39mtorch\u001b[38;5;241m.\u001b[39mbfloat16)), device)\n\u001b[1;32m      3\u001b[0m output \u001b[38;5;241m=\u001b[39m ttnn\u001b[38;5;241m.\u001b[39msoftmax(tensor, \u001b[38;5;241m-\u001b[39m\u001b[38;5;241m1\u001b[39m)\n\u001b[0;32m----> 4\u001b[0m \u001b[38;5;28mprint\u001b[39m(\u001b[43moutput\u001b[49m\u001b[43m[\u001b[49m\u001b[38;5;241;43m0\u001b[39;49m\u001b[43m,\u001b[49m\u001b[43m \u001b[49m\u001b[38;5;241;43m0\u001b[39;49m\u001b[43m,\u001b[49m\u001b[43m \u001b[49m\u001b[38;5;241;43m0\u001b[39;49m\u001b[43m,\u001b[49m\u001b[43m \u001b[49m\u001b[43m:\u001b[49m\u001b[38;5;241;43m3\u001b[39;49m\u001b[43m]\u001b[49m)\n",
      "File \u001b[0;32m~/tt-metal/ttnn/tensor.py:58\u001b[0m, in \u001b[0;36mTensor.__getitem__\u001b[0;34m(self, slices)\u001b[0m\n\u001b[1;32m     56\u001b[0m \u001b[38;5;28;01mdef\u001b[39;00m \u001b[38;5;21m__getitem__\u001b[39m(\u001b[38;5;28mself\u001b[39m: \u001b[38;5;124m\"\u001b[39m\u001b[38;5;124mTensor\u001b[39m\u001b[38;5;124m\"\u001b[39m, slices) \u001b[38;5;241m-\u001b[39m\u001b[38;5;241m>\u001b[39m \u001b[38;5;124m\"\u001b[39m\u001b[38;5;124mTensor\u001b[39m\u001b[38;5;124m\"\u001b[39m:\n\u001b[1;32m     57\u001b[0m     \u001b[38;5;28;01mif\u001b[39;00m \u001b[38;5;28mself\u001b[39m\u001b[38;5;241m.\u001b[39mlayout \u001b[38;5;241m!=\u001b[39m ROW_MAJOR_LAYOUT:\n\u001b[0;32m---> 58\u001b[0m         \u001b[38;5;28;01mraise\u001b[39;00m \u001b[38;5;167;01mRuntimeError\u001b[39;00m(\u001b[38;5;124m\"\u001b[39m\u001b[38;5;124mTensor must be in ROW_MAJOR layout to use slicing!\u001b[39m\u001b[38;5;124m\"\u001b[39m)\n\u001b[1;32m     60\u001b[0m     \u001b[38;5;28;01mdef\u001b[39;00m \u001b[38;5;21mtorch_getitem\u001b[39m(tensor, slices):\n\u001b[1;32m     61\u001b[0m         \u001b[38;5;28;01mreturn\u001b[39;00m tensor[slices]\n",
      "\u001b[0;31mRuntimeError\u001b[0m: Tensor must be in ROW_MAJOR layout to use slicing!"
     ]
    }
   ],
   "source": [
    "#ttnn.softmax\n",
    "tensor = ttnn.to_device(ttnn.from_torch(torch.zeros((1, 1, 64, 32), dtype=torch.bfloat16)), device)\n",
    "output = ttnn.softmax(tensor, -1)\n",
    "print(output[0, 0, 0, :3])"
   ]
  },
  {
   "cell_type": "code",
   "execution_count": 16,
   "id": "2f22265c-bfd1-4b3b-aea5-edbeae4dd56d",
   "metadata": {},
   "outputs": [
    {
     "name": "stdout",
     "output_type": "stream",
     "text": [
      "Tensor([ 1, 0], dtype=bfloat16 )\n",
      "\n"
     ]
    }
   ],
   "source": [
    "#ttnn.sub\n",
    "tensor1 = ttnn.to_device(ttnn.from_torch(torch.tensor((1, 2), dtype=torch.bfloat16)), device)\n",
    "tensor2 = ttnn.to_device(ttnn.from_torch(torch.tensor((0, 1), dtype=torch.bfloat16)), device)\n",
    "output = ttnn.sub(tensor1, tensor2, alpha=2)\n",
    "print(output)"
   ]
  },
  {
   "cell_type": "code",
   "execution_count": 17,
   "id": "fa6df8be-395a-461a-ab0d-2fa9b091d3dd",
   "metadata": {},
   "outputs": [
    {
     "name": "stdout",
     "output_type": "stream",
     "text": [
      "Tensor([ -0.00212097, -0.808594, -0.486328], dtype=bfloat16 )\n",
      "\n"
     ]
    }
   ],
   "source": [
    "#ttnn.to_device\n",
    "tensor_on_host = ttnn.from_torch(torch.randn((10, 64, 32)), dtype=ttnn.bfloat16)\n",
    "tensor_on_device = ttnn.to_device(tensor_on_host, device, memory_config=ttnn.L1_MEMORY_CONFIG)\n",
    "print(tensor_on_device[0,0,:3])"
   ]
  },
  {
   "cell_type": "code",
   "execution_count": 18,
   "id": "f905789a-cf29-4333-8179-357bc71cc046",
   "metadata": {},
   "outputs": [
    {
     "ename": "RuntimeError",
     "evalue": "Tensor must be in ROW_MAJOR layout to use slicing!",
     "output_type": "error",
     "traceback": [
      "\u001b[0;31m---------------------------------------------------------------------------\u001b[0m",
      "\u001b[0;31mRuntimeError\u001b[0m                              Traceback (most recent call last)",
      "Cell \u001b[0;32mIn[18], line 4\u001b[0m\n\u001b[1;32m      2\u001b[0m tensor \u001b[38;5;241m=\u001b[39m ttnn\u001b[38;5;241m.\u001b[39mto_device(ttnn\u001b[38;5;241m.\u001b[39mfrom_torch(torch\u001b[38;5;241m.\u001b[39mrandn((\u001b[38;5;241m10\u001b[39m, \u001b[38;5;241m64\u001b[39m, \u001b[38;5;241m32\u001b[39m), dtype\u001b[38;5;241m=\u001b[39mtorch\u001b[38;5;241m.\u001b[39mbfloat16)), device)\n\u001b[1;32m      3\u001b[0m tensor \u001b[38;5;241m=\u001b[39m ttnn\u001b[38;5;241m.\u001b[39mto_layout(tensor, layout\u001b[38;5;241m=\u001b[39mttnn\u001b[38;5;241m.\u001b[39mTILE_LAYOUT)\n\u001b[0;32m----> 4\u001b[0m \u001b[38;5;28mprint\u001b[39m(\u001b[43mtensor\u001b[49m\u001b[43m[\u001b[49m\u001b[38;5;241;43m0\u001b[39;49m\u001b[43m,\u001b[49m\u001b[38;5;241;43m0\u001b[39;49m\u001b[43m,\u001b[49m\u001b[43m:\u001b[49m\u001b[38;5;241;43m3\u001b[39;49m\u001b[43m]\u001b[49m)\n",
      "File \u001b[0;32m~/tt-metal/ttnn/tensor.py:58\u001b[0m, in \u001b[0;36mTensor.__getitem__\u001b[0;34m(self, slices)\u001b[0m\n\u001b[1;32m     56\u001b[0m \u001b[38;5;28;01mdef\u001b[39;00m \u001b[38;5;21m__getitem__\u001b[39m(\u001b[38;5;28mself\u001b[39m: \u001b[38;5;124m\"\u001b[39m\u001b[38;5;124mTensor\u001b[39m\u001b[38;5;124m\"\u001b[39m, slices) \u001b[38;5;241m-\u001b[39m\u001b[38;5;241m>\u001b[39m \u001b[38;5;124m\"\u001b[39m\u001b[38;5;124mTensor\u001b[39m\u001b[38;5;124m\"\u001b[39m:\n\u001b[1;32m     57\u001b[0m     \u001b[38;5;28;01mif\u001b[39;00m \u001b[38;5;28mself\u001b[39m\u001b[38;5;241m.\u001b[39mlayout \u001b[38;5;241m!=\u001b[39m ROW_MAJOR_LAYOUT:\n\u001b[0;32m---> 58\u001b[0m         \u001b[38;5;28;01mraise\u001b[39;00m \u001b[38;5;167;01mRuntimeError\u001b[39;00m(\u001b[38;5;124m\"\u001b[39m\u001b[38;5;124mTensor must be in ROW_MAJOR layout to use slicing!\u001b[39m\u001b[38;5;124m\"\u001b[39m)\n\u001b[1;32m     60\u001b[0m     \u001b[38;5;28;01mdef\u001b[39;00m \u001b[38;5;21mtorch_getitem\u001b[39m(tensor, slices):\n\u001b[1;32m     61\u001b[0m         \u001b[38;5;28;01mreturn\u001b[39;00m tensor[slices]\n",
      "\u001b[0;31mRuntimeError\u001b[0m: Tensor must be in ROW_MAJOR layout to use slicing!"
     ]
    }
   ],
   "source": [
    "#ttnn.to_layout\n",
    "tensor = ttnn.to_device(ttnn.from_torch(torch.randn((10, 64, 32), dtype=torch.bfloat16)), device)\n",
    "tensor = ttnn.to_layout(tensor, layout=ttnn.TILE_LAYOUT)\n",
    "print(tensor[0,0,:3])"
   ]
  },
  {
   "cell_type": "code",
   "execution_count": 19,
   "id": "c46eae0e-c851-417d-96ca-e7732ed0a63c",
   "metadata": {},
   "outputs": [
    {
     "name": "stdout",
     "output_type": "stream",
     "text": [
      "tensor([[ 0.0649, -0.8438,  0.1924],\n",
      "        [ 1.1328,  0.4199,  0.2832]], dtype=torch.bfloat16)\n"
     ]
    }
   ],
   "source": [
    "#ttnn.to_torch\n",
    "ttnn_tensor = ttnn.from_torch(torch.randn((2,3)), dtype=ttnn.bfloat16)\n",
    "torch_tensor = ttnn.to_torch(ttnn_tensor)\n",
    "print(torch_tensor)"
   ]
  },
  {
   "cell_type": "code",
   "execution_count": null,
   "id": "47b6c31b-e1a7-47cd-9e81-800f9138c9a6",
   "metadata": {},
   "outputs": [],
   "source": []
  },
  {
   "cell_type": "code",
   "execution_count": null,
   "id": "ca5ecee0-04e3-4d68-8393-1ced607664f0",
   "metadata": {},
   "outputs": [],
   "source": []
  }
 ],
 "metadata": {
  "kernelspec": {
   "display_name": "Python 3 (ipykernel)",
   "language": "python",
   "name": "python3"
  },
  "language_info": {
   "codemirror_mode": {
    "name": "ipython",
    "version": 3
   },
   "file_extension": ".py",
   "mimetype": "text/x-python",
   "name": "python",
   "nbconvert_exporter": "python",
   "pygments_lexer": "ipython3",
   "version": "3.8.10"
  }
 },
 "nbformat": 4,
 "nbformat_minor": 5
}
